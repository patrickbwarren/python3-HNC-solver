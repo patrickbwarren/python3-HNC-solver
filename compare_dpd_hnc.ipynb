{
 "cells": [
  {
   "cell_type": "markdown",
   "metadata": {},
   "source": [
    "This program is part of pyHNC, copyright (c) 2023 Patrick B Warren (STFC).\n",
    "Additional modifications copyright (c) 2025 Joshua F Robinson (STFC).\n",
    "Email: patrick.warren{at}stfc.ac.uk.\n",
    "\n",
    "This program is free software: you can redistribute it and/or modify\n",
    "it under the terms of the GNU General Public License as published by\n",
    "the Free Software Foundation, either version 3 of the License, or\n",
    "(at your option) any later version.\n",
    "\n",
    "This program is distributed in the hope that it will be useful, but\n",
    "WITHOUT ANY WARRANTY; without even the implied warranty of\n",
    "MERCHANTABILITY or FITNESS FOR A PARTICULAR PURPOSE.  See the GNU\n",
    "General Public License for more details.\n",
    "\n",
    "You should have received a copy of the GNU General Public License\n",
    "along with this program.  If not, see\n",
    "<http://www.gnu.org/licenses/>.\n",
    "\n",
    "Demonstrate the capabilities of the HNC package for solving DPD\n",
    "potentials, comparing with SunlightHNC if requested, and plotting\n",
    "the pair distribution function and the structure factor too.  For\n",
    "details here see also the SunlightHNC documentation.\n",
    "\n",
    "For standard DPD at $A = 25$ and $ρ = 3$, we have the following table\n",
    "\n",
    "```\n",
    "          ∆t = 0.02   ∆t = 0.01   Monte-Carlo  HNC   deviation\n",
    "pressure  23.73±0.02  23.69±0.02  23.65±0.02   23.564  (0.4%)\n",
    "energy    13.66±0.02  13.64±0.02  13.63±0.02   13.762  (1.0%)\n",
    "mu^ex     12.14±0.02  12.16±0.02  12.25±0.10   12.170  (0.7%)\n",
    "```\n",
    "\n",
    "\n",
    "The first two columns are from dynamic simulations.  The excess\n",
    "chemical potential (final row) is measured by Widom insertion.  The\n",
    "HNC results from the present code are in agreement with those from\n",
    "SunlightHNC to at least the indicated number of decimals.  The\n",
    "deviation is between HNC and simulation results.\n",
    "\n",
    "Data is from a forthcoming publication on osmotic pressure in DPD."
   ]
  },
  {
   "cell_type": "markdown",
   "metadata": {},
   "source": [
    "## Standard modules"
   ]
  },
  {
   "cell_type": "code",
   "execution_count": 1,
   "metadata": {},
   "outputs": [],
   "source": [
    "import os\n",
    "import pyHNC\n",
    "import argparse\n",
    "import pandas as pd\n",
    "import numpy as np, matplotlib.pyplot as plt\n",
    "from numpy import pi as π\n",
    "from scipy.integrate import simpson\n",
    "from pyHNC import Grid, PicardHNC, SolutePicardHNC, truncate_to_zero\n",
    "import matplotlib.pyplot as plt"
   ]
  },
  {
   "cell_type": "markdown",
   "metadata": {},
   "source": [
    "## Global parameters"
   ]
  },
  {
   "cell_type": "code",
   "execution_count": 2,
   "metadata": {},
   "outputs": [
    {
     "name": "stdout",
     "output_type": "stream",
     "text": [
      "Grid: ng = 32768 = 2^15, Δr = 0.01, Δq = 0.00959, |FFTW arrays| = 32767\n",
      "HNC: α = 0.2, tol = 1.0e-12, npicard = 1000\n"
     ]
    }
   ],
   "source": [
    "N = 2**15\n",
    "Δr = 0.01\n",
    "grid = Grid(N, Δr)\n",
    "r, q = grid.r, grid.q\n",
    "\n",
    "verbose = False\n",
    "\n",
    "alpha = 0.2\n",
    "npicard = 1000\n",
    "tol = 1e-12\n",
    "solvent = PicardHNC(grid, alpha=alpha, npicard=npicard, tol=tol)\n",
    "print(grid.details + '\\n' + solvent.details)"
   ]
  },
  {
   "cell_type": "code",
   "execution_count": 14,
   "metadata": {},
   "outputs": [
    {
     "data": {
      "text/plain": [
       "15"
      ]
     },
     "execution_count": 14,
     "metadata": {},
     "output_type": "execute_result"
    }
   ],
   "source": [
    "round(np.log2(grid.ng))"
   ]
  },
  {
   "cell_type": "markdown",
   "metadata": {},
   "source": [
    "# 1. Solve for pure solvent"
   ]
  },
  {
   "cell_type": "markdown",
   "metadata": {},
   "source": [
    "Define interaction parameters:"
   ]
  },
  {
   "cell_type": "code",
   "execution_count": 3,
   "metadata": {},
   "outputs": [],
   "source": [
    "def dpd_potential(A, r):\n",
    "    \"\"\"Define the DPD potential.\"\"\"\n",
    "    return truncate_to_zero(A/2*(1-r)**2, r, 1)\n",
    "\n",
    "def dpd_force(A, r):\n",
    "    \"\"\"Define dereivative of the DPD potential.\"\"\"\n",
    "    return truncate_to_zero(A*(1-r), r, 1) # the force f = -dφ/dr\n",
    "\n",
    "# Parameters for solvent-solvent interactions\n",
    "A00 = 25\n",
    "ρ0 = 3.0\n",
    "φ0, f0 = dpd_potential(A00, r), dpd_force(A00, r)"
   ]
  },
  {
   "cell_type": "markdown",
   "metadata": {},
   "source": [
    "Solve for $h(r)$ via Picard iteration with HNC closure:"
   ]
  },
  {
   "cell_type": "code",
   "execution_count": 4,
   "metadata": {},
   "outputs": [
    {
     "data": {
      "image/png": "[encoded data removed]",
      "text/plain": [
       "<Figure size 432x288 with 1 Axes>"
      ]
     },
     "metadata": {
      "needs_background": "light"
     },
     "output_type": "display_data"
    }
   ],
   "source": [
    "soln = solvent.solve(φ0, ρ0, monitor=verbose) # solve for the DPD potential\n",
    "h00, c00, h00q = soln.hr, soln.cr, soln.hq # extract for use in a moment\n",
    "\n",
    "plt.plot(r, 1+h00)\n",
    "plt.xlabel('$r$')\n",
    "plt.ylabel('$g(r)$')\n",
    "plt.xlim([0, 3])\n",
    "plt.show()"
   ]
  },
  {
   "cell_type": "code",
   "execution_count": 5,
   "metadata": {},
   "outputs": [
    {
     "data": {
      "image/png": "[encoded data removed]",
      "text/plain": [
       "<Figure size 432x288 with 1 Axes>"
      ]
     },
     "metadata": {
      "needs_background": "light"
     },
     "output_type": "display_data"
    }
   ],
   "source": [
    "S00q = 1 + ρ0*h00q # solvent structure factor\n",
    "\n",
    "plt.plot(q, S00q)\n",
    "plt.xlabel('$q$')\n",
    "plt.ylabel('$S(q)$')\n",
    "plt.xlim([0, 25])\n",
    "plt.show()"
   ]
  },
  {
   "cell_type": "markdown",
   "metadata": {},
   "source": [
    "Calculate thermodynamic quantities using the total correlation function $h(r)$.\n",
    "\n",
    "For the integrals here, see Eqs. (2.5.20) and (2.5.22) in Hansen & McDonald, \"Theory of Simple Liquids\" (3rd edition): for the (excess) energy density,\n",
    "$$\n",
    "e \\equiv \\frac{U^\\mathrm{ex}}{V} = 2\\pi\\rho^2 \\int_0^\\infty \\mathrm{d}r \\, r^2 \\phi(r) g(r)\n",
    "$$\n",
    "and virial pressure,\n",
    "$$\n",
    "p = \\rho + \\frac{2\\pi\\rho^2}{3} \\int_0^\\infty \\mathrm{d}r \\, r^3 f(r) g(r)\n",
    "$$\n",
    "where $f(r) = −\\mathrm{d}\\phi/\\mathrm{d}r$ is the force. Note that we have assumed $\\beta = 1$ in our expressions, so energy is given in units of $k_\\mathrm{B} T$. An integration by parts shows that the mean-field contributions, being these with g(r) = 1, are the same.\n",
    "\n",
    "Here specifically the mean-field contributions are\n",
    "$$\n",
    "\\frac{2\\pi \\rho^3}{3} \\int_0^\\infty \\mathrm{d}r \\, r^3 f(r) = A \\int_0^1 \\mathrm{d}r \\, r^3 (1−r) = \\frac{\\pi A \\rho^3}{30} \\,.\n",
    "$$"
   ]
  },
  {
   "cell_type": "code",
   "execution_count": 6,
   "metadata": {},
   "outputs": [
    {
     "name": "stdout",
     "output_type": "stream",
     "text": [
      "μ=13.2692 μ_ex=12.1706 μ_id=1.0986\n"
     ]
    }
   ],
   "source": [
    "def excess_chemical_potential(h, c, r):\n",
    "    return 4*π*ρ0 * simpson(r**2*(h*(h-c)/2 - c), r)\n",
    "\n",
    "μ_ex = excess_chemical_potential(h00, c00, r)\n",
    "μ = np.log(ρ0) + μ_ex\n",
    "print(f'μ={μ:.4f} μ_ex={μ_ex:.4f} μ_id={μ-μ_ex:.4f}')"
   ]
  },
  {
   "cell_type": "markdown",
   "metadata": {},
   "source": [
    "# 2. Introduce solute"
   ]
  },
  {
   "cell_type": "markdown",
   "metadata": {},
   "source": [
    "We need to use a different solver that takes into account that this is now a binary mixture where the second species (the solute) is infinitely dilute. We need to pass the previously obtained static properties of the solvent."
   ]
  },
  {
   "cell_type": "code",
   "execution_count": 7,
   "metadata": {},
   "outputs": [],
   "source": [
    "solute = SolutePicardHNC(S00q, grid, alpha=alpha, npicard=npicard, tol=tol)"
   ]
  },
  {
   "cell_type": "markdown",
   "metadata": {},
   "source": [
    "Show how the distribution function $g_{01}$ between solvent (species 0) and solute (species 1) varies with DPD interaction parameter $A_{01}$. We can also infer $g_{11}$ directly from $g_{01}$ and thereby calculate the potential of mean force between two solute particles:\n",
    "$$\n",
    "- \\ln{g_{11}(r)} = \\beta \\phi_{11}(r) + \\beta \\Delta \\Omega_{11}(r)\\,.\n",
    "$$\n",
    "Here $\\beta \\Delta \\Omega_{11}$ is the depletion potential between solutes."
   ]
  },
  {
   "cell_type": "code",
   "execution_count": 8,
   "metadata": {},
   "outputs": [
    {
     "name": "stderr",
     "output_type": "stream",
     "text": [
      "/tmp/ipykernel_28546/127677790.py:31: UserWarning: Matplotlib is currently using module://matplotlib_inline.backend_inline, which is a non-GUI backend, so cannot show the figure.\n",
      "  fig1.show()\n",
      "/tmp/ipykernel_28546/127677790.py:32: UserWarning: Matplotlib is currently using module://matplotlib_inline.backend_inline, which is a non-GUI backend, so cannot show the figure.\n",
      "  fig2.show()\n"
     ]
    },
    {
     "data": {
      "image/png": "[encoded data removed]",
      "text/plain": [
       "<Figure size 243x216 with 1 Axes>"
      ]
     },
     "metadata": {
      "needs_background": "light"
     },
     "output_type": "display_data"
    },
    {
     "data": {
      "image/png": "[encoded data removed]",
      "text/plain": [
       "<Figure size 243x216 with 1 Axes>"
      ]
     },
     "metadata": {
      "needs_background": "light"
     },
     "output_type": "display_data"
    }
   ],
   "source": [
    "fig1 = plt.figure(figsize=(3.375, 3))\n",
    "ax1 = plt.gca()\n",
    "fig2 = plt.figure(figsize=(3.375, 3))\n",
    "ax2 = plt.gca()\n",
    "\n",
    "ax1.plot(r, 1+h00, label=(r'$g_{00}(r; A_{00}=' + f'{A00})$'))\n",
    "\n",
    "for A01 in np.arange(2*A00, 151, 25):\n",
    "    φ01 = dpd_potential(A01, r)\n",
    "    soln = solute.solve(φ01, monitor=verbose)\n",
    "    h01, c01, h01q = soln.hr, soln.cr, soln.hq\n",
    "    ax1.plot(r, 1+h01, label=(r'$g_{01}(r; A_{01}=' + f'{A01})$'))\n",
    "\n",
    "    c01q = grid.fourier_bessel_forward(c01)\n",
    "    depletion11 = - ρ0 * grid.fourier_bessel_backward(c01q * h01q)\n",
    "    pl, = ax2.plot(r, depletion11, label=(r'$A_{01}=' + f'{A01}$'))\n",
    "\n",
    "    # Equivalent calculation should be on top of other lines.\n",
    "    # psi1q = h01q / (1 + ρ0*h00q)**0.5\n",
    "    # depletion11 = - ρ0 * grid.fourier_bessel_backward(psi1q**2)\n",
    "    # ax2.plot(r, depletion11, '--', c=pl.get_color())\n",
    "\n",
    "for ax in [ax1, ax2]:\n",
    "    ax.legend(loc='best', fontsize=8)\n",
    "    ax.set_xlabel('$r$')\n",
    "    ax.set_xlim([0, 3])\n",
    "\n",
    "ax1.set_ylabel('$g(r)$')\n",
    "ax2.set_ylabel(r'$\\beta \\Delta \\Omega_{11}(r)$')\n",
    "\n",
    "fig1.show()\n",
    "fig2.show()"
   ]
  },
  {
   "cell_type": "markdown",
   "metadata": {},
   "source": [
    "Calculate excess chemical potentials for solutes with varying solvent-solute interaction parameters $A_{01}$:"
   ]
  },
  {
   "cell_type": "code",
   "execution_count": 8,
   "metadata": {},
   "outputs": [],
   "source": [
    "A01 = np.linspace(0, 60, 61)\n",
    "μ_ex = np.empty(len(A01))\n",
    "pmf_overlap = np.empty(len(A01))\n",
    "\n",
    "for i, A in enumerate(np.flipud(A01)[:-1]):\n",
    "    φ01 = dpd_potential(A, r)\n",
    "    soln = solute.solve(φ01, monitor=verbose)\n",
    "    h01, c01, c01q, h01q = soln.hr, soln.cr, soln.cq, soln.hq\n",
    "    μ_ex[len(A01)-i-1] = excess_chemical_potential(h01, c01, r)\n",
    "    pmf_overlap[len(A01)-i-1] = - ρ0 / (2*π**2) * simpson(q**2*c01q*h01q, q)\n",
    "\n",
    "μ_ex[0] = 0.0\n",
    "pmf_overlap[0] = 0.0"
   ]
  },
  {
   "cell_type": "code",
   "execution_count": 57,
   "metadata": {},
   "outputs": [
    {
     "data": {
      "text/plain": [
       "array([60., 55., 50., 45., 40., 35., 30., 25., 20., 15., 10.,  5.,  0.])"
      ]
     },
     "execution_count": 57,
     "metadata": {},
     "output_type": "execute_result"
    }
   ],
   "source": [
    "np.flipud(np.linspace(0, 60, 13))"
   ]
  },
  {
   "cell_type": "markdown",
   "metadata": {},
   "source": [
    "Plot the previously calculated chemical potentials:\n",
    "digitised from Fig 1 of Hendrikse *et al.*, PCCP **27**, 1554-66 (2025).\n"
   ]
  },
  {
   "cell_type": "code",
   "execution_count": 15,
   "metadata": {},
   "outputs": [
    {
     "data": {
      "text/html": [
       "<div>\n",
       "<style scoped>\n",
       "    .dataframe tbody tr th:only-of-type {\n",
       "        vertical-align: middle;\n",
       "    }\n",
       "\n",
       "    .dataframe tbody tr th {\n",
       "        vertical-align: top;\n",
       "    }\n",
       "\n",
       "    .dataframe thead th {\n",
       "        text-align: right;\n",
       "    }\n",
       "</style>\n",
       "<table border=\"1\" class=\"dataframe\">\n",
       "  <thead>\n",
       "    <tr style=\"text-align: right;\">\n",
       "      <th></th>\n",
       "      <th>quantity</th>\n",
       "      <th>A01</th>\n",
       "      <th>value</th>\n",
       "      <th>error</th>\n",
       "      <th>njobs</th>\n",
       "      <th>file</th>\n",
       "    </tr>\n",
       "  </thead>\n",
       "  <tbody>\n",
       "    <tr>\n",
       "      <th>0</th>\n",
       "      <td>um</td>\n",
       "      <td>0.0</td>\n",
       "      <td>0.00000</td>\n",
       "      <td>0.000000</td>\n",
       "      <td>40</td>\n",
       "      <td>muref1a_mu.dat</td>\n",
       "    </tr>\n",
       "    <tr>\n",
       "      <th>1</th>\n",
       "      <td>mu</td>\n",
       "      <td>0.0</td>\n",
       "      <td>0.00000</td>\n",
       "      <td>0.000000</td>\n",
       "      <td>40</td>\n",
       "      <td>muref1a_mu.dat</td>\n",
       "    </tr>\n",
       "    <tr>\n",
       "      <th>2</th>\n",
       "      <td>um</td>\n",
       "      <td>5.0</td>\n",
       "      <td>3.14129</td>\n",
       "      <td>0.000153</td>\n",
       "      <td>40</td>\n",
       "      <td>muref1a_mu.dat</td>\n",
       "    </tr>\n",
       "    <tr>\n",
       "      <th>3</th>\n",
       "      <td>mu</td>\n",
       "      <td>5.0</td>\n",
       "      <td>2.98500</td>\n",
       "      <td>0.000166</td>\n",
       "      <td>40</td>\n",
       "      <td>muref1a_mu.dat</td>\n",
       "    </tr>\n",
       "    <tr>\n",
       "      <th>4</th>\n",
       "      <td>um</td>\n",
       "      <td>10.0</td>\n",
       "      <td>6.28258</td>\n",
       "      <td>0.000305</td>\n",
       "      <td>40</td>\n",
       "      <td>muref1a_mu.dat</td>\n",
       "    </tr>\n",
       "    <tr>\n",
       "      <th>...</th>\n",
       "      <td>...</td>\n",
       "      <td>...</td>\n",
       "      <td>...</td>\n",
       "      <td>...</td>\n",
       "      <td>...</td>\n",
       "      <td>...</td>\n",
       "    </tr>\n",
       "    <tr>\n",
       "      <th>83</th>\n",
       "      <td>mu</td>\n",
       "      <td>40.0</td>\n",
       "      <td>16.77160</td>\n",
       "      <td>0.024320</td>\n",
       "      <td>100</td>\n",
       "      <td>muref2_mu.dat</td>\n",
       "    </tr>\n",
       "    <tr>\n",
       "      <th>84</th>\n",
       "      <td>um</td>\n",
       "      <td>45.0</td>\n",
       "      <td>28.27410</td>\n",
       "      <td>0.000992</td>\n",
       "      <td>100</td>\n",
       "      <td>muref2_mu.dat</td>\n",
       "    </tr>\n",
       "    <tr>\n",
       "      <th>85</th>\n",
       "      <td>mu</td>\n",
       "      <td>45.0</td>\n",
       "      <td>18.02120</td>\n",
       "      <td>0.036838</td>\n",
       "      <td>100</td>\n",
       "      <td>muref2_mu.dat</td>\n",
       "    </tr>\n",
       "    <tr>\n",
       "      <th>86</th>\n",
       "      <td>um</td>\n",
       "      <td>50.0</td>\n",
       "      <td>31.41560</td>\n",
       "      <td>0.001103</td>\n",
       "      <td>100</td>\n",
       "      <td>muref2_mu.dat</td>\n",
       "    </tr>\n",
       "    <tr>\n",
       "      <th>87</th>\n",
       "      <td>mu</td>\n",
       "      <td>50.0</td>\n",
       "      <td>19.17930</td>\n",
       "      <td>0.050521</td>\n",
       "      <td>100</td>\n",
       "      <td>muref2_mu.dat</td>\n",
       "    </tr>\n",
       "  </tbody>\n",
       "</table>\n",
       "<p>88 rows × 6 columns</p>\n",
       "</div>"
      ],
      "text/plain": [
       "   quantity   A01     value     error  njobs            file\n",
       "0        um   0.0   0.00000  0.000000     40  muref1a_mu.dat\n",
       "1        mu   0.0   0.00000  0.000000     40  muref1a_mu.dat\n",
       "2        um   5.0   3.14129  0.000153     40  muref1a_mu.dat\n",
       "3        mu   5.0   2.98500  0.000166     40  muref1a_mu.dat\n",
       "4        um  10.0   6.28258  0.000305     40  muref1a_mu.dat\n",
       "..      ...   ...       ...       ...    ...             ...\n",
       "83       mu  40.0  16.77160  0.024320    100   muref2_mu.dat\n",
       "84       um  45.0  28.27410  0.000992    100   muref2_mu.dat\n",
       "85       mu  45.0  18.02120  0.036838    100   muref2_mu.dat\n",
       "86       um  50.0  31.41560  0.001103    100   muref2_mu.dat\n",
       "87       mu  50.0  19.17930  0.050521    100   muref2_mu.dat\n",
       "\n",
       "[88 rows x 6 columns]"
      ]
     },
     "execution_count": 15,
     "metadata": {},
     "output_type": "execute_result"
    }
   ],
   "source": [
    "schema2 = {'quantity':str, 'A01':float, 'value':float, 'error':float, 'njobs':int, 'file':str}\n",
    "muref = pd.read_csv('muref_all.dat', sep='\\t', names=schema2.keys(), dtype=schema2)\n",
    "muref"
   ]
  },
  {
   "cell_type": "code",
   "execution_count": 57,
   "metadata": {},
   "outputs": [
    {
     "data": {
      "text/html": [
       "<div>\n",
       "<style scoped>\n",
       "    .dataframe tbody tr th:only-of-type {\n",
       "        vertical-align: middle;\n",
       "    }\n",
       "\n",
       "    .dataframe tbody tr th {\n",
       "        vertical-align: top;\n",
       "    }\n",
       "\n",
       "    .dataframe thead th {\n",
       "        text-align: right;\n",
       "    }\n",
       "</style>\n",
       "<table border=\"1\" class=\"dataframe\">\n",
       "  <thead>\n",
       "    <tr style=\"text-align: right;\">\n",
       "      <th></th>\n",
       "      <th>quantity</th>\n",
       "      <th>A01</th>\n",
       "      <th>value</th>\n",
       "      <th>error</th>\n",
       "      <th>njobs</th>\n",
       "      <th>file</th>\n",
       "    </tr>\n",
       "  </thead>\n",
       "  <tbody>\n",
       "    <tr>\n",
       "      <th>15</th>\n",
       "      <td>mu</td>\n",
       "      <td>35.0</td>\n",
       "      <td>15.4121</td>\n",
       "      <td>0.022324</td>\n",
       "      <td>40</td>\n",
       "      <td>muref1a_mu.dat</td>\n",
       "    </tr>\n",
       "    <tr>\n",
       "      <th>37</th>\n",
       "      <td>mu</td>\n",
       "      <td>35.0</td>\n",
       "      <td>15.3976</td>\n",
       "      <td>0.018405</td>\n",
       "      <td>40</td>\n",
       "      <td>muref1b_mu.dat</td>\n",
       "    </tr>\n",
       "    <tr>\n",
       "      <th>59</th>\n",
       "      <td>mu</td>\n",
       "      <td>35.0</td>\n",
       "      <td>15.3980</td>\n",
       "      <td>0.013808</td>\n",
       "      <td>40</td>\n",
       "      <td>muref2a_mu.dat</td>\n",
       "    </tr>\n",
       "    <tr>\n",
       "      <th>81</th>\n",
       "      <td>mu</td>\n",
       "      <td>35.0</td>\n",
       "      <td>15.4002</td>\n",
       "      <td>0.014103</td>\n",
       "      <td>100</td>\n",
       "      <td>muref2_mu.dat</td>\n",
       "    </tr>\n",
       "  </tbody>\n",
       "</table>\n",
       "</div>"
      ],
      "text/plain": [
       "   quantity   A01    value     error  njobs            file\n",
       "15       mu  35.0  15.4121  0.022324     40  muref1a_mu.dat\n",
       "37       mu  35.0  15.3976  0.018405     40  muref1b_mu.dat\n",
       "59       mu  35.0  15.3980  0.013808     40  muref2a_mu.dat\n",
       "81       mu  35.0  15.4002  0.014103    100   muref2_mu.dat"
      ]
     },
     "execution_count": 57,
     "metadata": {},
     "output_type": "execute_result"
    }
   ],
   "source": [
    "A01 = 35\n",
    "slice = (muref['quantity']=='mu') & (muref['A01'] == A01)\n",
    "muref[slice]"
   ]
  },
  {
   "cell_type": "code",
   "execution_count": 16,
   "metadata": {},
   "outputs": [
    {
     "data": {
      "text/plain": [
       "A01\n",
       "0.0      0.00000\n",
       "5.0      2.98545\n",
       "10.0     5.67323\n",
       "15.0     8.08463\n",
       "20.0    10.24070\n",
       "25.0    12.16280\n",
       "30.0    13.87410\n",
       "35.0    15.40020\n",
       "40.0    16.77160\n",
       "45.0    18.02120\n",
       "50.0    19.17930\n",
       "Name: value, dtype: float64"
      ]
     },
     "execution_count": 16,
     "metadata": {},
     "output_type": "execute_result"
    }
   ],
   "source": [
    "slice = (muref['quantity']=='mu') & (muref['file'] == 'muref2_mu.dat')\n",
    "muref_ser = muref[slice][['A01', 'value']].groupby('A01').mean()['value']\n",
    "muref_ser"
   ]
  },
  {
   "cell_type": "code",
   "execution_count": 9,
   "metadata": {},
   "outputs": [
    {
     "data": {
      "text/plain": [
       "A01\n",
       "0.0      0.000000\n",
       "5.0      2.985515\n",
       "10.0     5.673240\n",
       "15.0     8.084485\n",
       "20.0    10.240450\n",
       "25.0    12.162750\n",
       "30.0    13.874200\n",
       "35.0    15.399100\n",
       "40.0    16.765500\n",
       "45.0    18.004000\n",
       "50.0    19.144300\n",
       "Name: value, dtype: float64"
      ]
     },
     "execution_count": 9,
     "metadata": {},
     "output_type": "execute_result"
    }
   ],
   "source": [
    "slice = (muref['quantity']=='mu') & muref['file'].str.startswith('muref2')\n",
    "muref_ser = muref[slice][['A01', 'value']].groupby('A01').mean()['value']\n",
    "muref_ser"
   ]
  },
  {
   "cell_type": "code",
   "execution_count": 11,
   "metadata": {},
   "outputs": [
    {
     "data": {
      "text/html": [
       "<div>\n",
       "<style scoped>\n",
       "    .dataframe tbody tr th:only-of-type {\n",
       "        vertical-align: middle;\n",
       "    }\n",
       "\n",
       "    .dataframe tbody tr th {\n",
       "        vertical-align: top;\n",
       "    }\n",
       "\n",
       "    .dataframe thead th {\n",
       "        text-align: right;\n",
       "    }\n",
       "</style>\n",
       "<table border=\"1\" class=\"dataframe\">\n",
       "  <thead>\n",
       "    <tr style=\"text-align: right;\">\n",
       "      <th></th>\n",
       "      <th>quantity</th>\n",
       "      <th>A01</th>\n",
       "      <th>dlength</th>\n",
       "      <th>value</th>\n",
       "      <th>error</th>\n",
       "      <th>njobs</th>\n",
       "      <th>file</th>\n",
       "    </tr>\n",
       "  </thead>\n",
       "  <tbody>\n",
       "    <tr>\n",
       "      <th>0</th>\n",
       "      <td>um</td>\n",
       "      <td>0.0</td>\n",
       "      <td>0.0</td>\n",
       "      <td>0.00000</td>\n",
       "      <td>0.000000</td>\n",
       "      <td>40</td>\n",
       "      <td>dimer00a_mu.dat</td>\n",
       "    </tr>\n",
       "    <tr>\n",
       "      <th>1</th>\n",
       "      <td>mu</td>\n",
       "      <td>0.0</td>\n",
       "      <td>0.0</td>\n",
       "      <td>0.00000</td>\n",
       "      <td>0.000000</td>\n",
       "      <td>40</td>\n",
       "      <td>dimer00a_mu.dat</td>\n",
       "    </tr>\n",
       "    <tr>\n",
       "      <th>2</th>\n",
       "      <td>um</td>\n",
       "      <td>5.0</td>\n",
       "      <td>0.0</td>\n",
       "      <td>6.28258</td>\n",
       "      <td>0.000305</td>\n",
       "      <td>40</td>\n",
       "      <td>dimer00a_mu.dat</td>\n",
       "    </tr>\n",
       "    <tr>\n",
       "      <th>3</th>\n",
       "      <td>mu</td>\n",
       "      <td>5.0</td>\n",
       "      <td>0.0</td>\n",
       "      <td>5.67216</td>\n",
       "      <td>0.000462</td>\n",
       "      <td>40</td>\n",
       "      <td>dimer00a_mu.dat</td>\n",
       "    </tr>\n",
       "    <tr>\n",
       "      <th>4</th>\n",
       "      <td>um</td>\n",
       "      <td>10.0</td>\n",
       "      <td>0.0</td>\n",
       "      <td>12.56520</td>\n",
       "      <td>0.000611</td>\n",
       "      <td>40</td>\n",
       "      <td>dimer00a_mu.dat</td>\n",
       "    </tr>\n",
       "    <tr>\n",
       "      <th>...</th>\n",
       "      <td>...</td>\n",
       "      <td>...</td>\n",
       "      <td>...</td>\n",
       "      <td>...</td>\n",
       "      <td>...</td>\n",
       "      <td>...</td>\n",
       "      <td>...</td>\n",
       "    </tr>\n",
       "    <tr>\n",
       "      <th>499</th>\n",
       "      <td>mu</td>\n",
       "      <td>15.0</td>\n",
       "      <td>2.0</td>\n",
       "      <td>16.17420</td>\n",
       "      <td>0.003372</td>\n",
       "      <td>40</td>\n",
       "      <td>dimer20b_mu.dat</td>\n",
       "    </tr>\n",
       "    <tr>\n",
       "      <th>500</th>\n",
       "      <td>um</td>\n",
       "      <td>20.0</td>\n",
       "      <td>2.0</td>\n",
       "      <td>25.13520</td>\n",
       "      <td>0.001411</td>\n",
       "      <td>40</td>\n",
       "      <td>dimer20b_mu.dat</td>\n",
       "    </tr>\n",
       "    <tr>\n",
       "      <th>501</th>\n",
       "      <td>mu</td>\n",
       "      <td>20.0</td>\n",
       "      <td>2.0</td>\n",
       "      <td>20.50080</td>\n",
       "      <td>0.010541</td>\n",
       "      <td>40</td>\n",
       "      <td>dimer20b_mu.dat</td>\n",
       "    </tr>\n",
       "    <tr>\n",
       "      <th>502</th>\n",
       "      <td>um</td>\n",
       "      <td>25.0</td>\n",
       "      <td>2.0</td>\n",
       "      <td>31.41900</td>\n",
       "      <td>0.001764</td>\n",
       "      <td>40</td>\n",
       "      <td>dimer20b_mu.dat</td>\n",
       "    </tr>\n",
       "    <tr>\n",
       "      <th>503</th>\n",
       "      <td>mu</td>\n",
       "      <td>25.0</td>\n",
       "      <td>2.0</td>\n",
       "      <td>24.40000</td>\n",
       "      <td>0.028821</td>\n",
       "      <td>40</td>\n",
       "      <td>dimer20b_mu.dat</td>\n",
       "    </tr>\n",
       "  </tbody>\n",
       "</table>\n",
       "<p>504 rows × 7 columns</p>\n",
       "</div>"
      ],
      "text/plain": [
       "    quantity   A01  dlength     value     error  njobs             file\n",
       "0         um   0.0      0.0   0.00000  0.000000     40  dimer00a_mu.dat\n",
       "1         mu   0.0      0.0   0.00000  0.000000     40  dimer00a_mu.dat\n",
       "2         um   5.0      0.0   6.28258  0.000305     40  dimer00a_mu.dat\n",
       "3         mu   5.0      0.0   5.67216  0.000462     40  dimer00a_mu.dat\n",
       "4         um  10.0      0.0  12.56520  0.000611     40  dimer00a_mu.dat\n",
       "..       ...   ...      ...       ...       ...    ...              ...\n",
       "499       mu  15.0      2.0  16.17420  0.003372     40  dimer20b_mu.dat\n",
       "500       um  20.0      2.0  25.13520  0.001411     40  dimer20b_mu.dat\n",
       "501       mu  20.0      2.0  20.50080  0.010541     40  dimer20b_mu.dat\n",
       "502       um  25.0      2.0  31.41900  0.001764     40  dimer20b_mu.dat\n",
       "503       mu  25.0      2.0  24.40000  0.028821     40  dimer20b_mu.dat\n",
       "\n",
       "[504 rows x 7 columns]"
      ]
     },
     "execution_count": 11,
     "metadata": {},
     "output_type": "execute_result"
    }
   ],
   "source": [
    "schema = {'quantity':str, 'A01':float, 'dlength':float, 'value':float, 'error':float, 'njobs':int, 'file':str}\n",
    "dimer = pd.read_csv('dimer_all.dat', sep='\\t', names=schema.keys(), dtype=schema)\n",
    "dimer"
   ]
  },
  {
   "cell_type": "code",
   "execution_count": 10,
   "metadata": {},
   "outputs": [
    {
     "data": {
      "text/html": [
       "<div>\n",
       "<style scoped>\n",
       "    .dataframe tbody tr th:only-of-type {\n",
       "        vertical-align: middle;\n",
       "    }\n",
       "\n",
       "    .dataframe tbody tr th {\n",
       "        vertical-align: top;\n",
       "    }\n",
       "\n",
       "    .dataframe thead th {\n",
       "        text-align: right;\n",
       "    }\n",
       "</style>\n",
       "<table border=\"1\" class=\"dataframe\">\n",
       "  <thead>\n",
       "    <tr style=\"text-align: right;\">\n",
       "      <th></th>\n",
       "      <th>quantity</th>\n",
       "      <th>A01</th>\n",
       "      <th>dlength</th>\n",
       "      <th>value</th>\n",
       "      <th>error</th>\n",
       "      <th>njobs</th>\n",
       "      <th>file</th>\n",
       "    </tr>\n",
       "  </thead>\n",
       "  <tbody>\n",
       "    <tr>\n",
       "      <th>0</th>\n",
       "      <td>um</td>\n",
       "      <td>25.0</td>\n",
       "      <td>0.0</td>\n",
       "      <td>31.4190</td>\n",
       "      <td>0.001764</td>\n",
       "      <td>40</td>\n",
       "      <td>dimersa_mu.dat</td>\n",
       "    </tr>\n",
       "    <tr>\n",
       "      <th>1</th>\n",
       "      <td>mu</td>\n",
       "      <td>25.0</td>\n",
       "      <td>0.0</td>\n",
       "      <td>19.1818</td>\n",
       "      <td>0.069135</td>\n",
       "      <td>40</td>\n",
       "      <td>dimersa_mu.dat</td>\n",
       "    </tr>\n",
       "    <tr>\n",
       "      <th>2</th>\n",
       "      <td>um</td>\n",
       "      <td>30.0</td>\n",
       "      <td>0.0</td>\n",
       "      <td>37.7028</td>\n",
       "      <td>0.002116</td>\n",
       "      <td>40</td>\n",
       "      <td>dimersa_mu.dat</td>\n",
       "    </tr>\n",
       "    <tr>\n",
       "      <th>3</th>\n",
       "      <td>mu</td>\n",
       "      <td>30.0</td>\n",
       "      <td>0.0</td>\n",
       "      <td>21.3183</td>\n",
       "      <td>0.111053</td>\n",
       "      <td>40</td>\n",
       "      <td>dimersa_mu.dat</td>\n",
       "    </tr>\n",
       "    <tr>\n",
       "      <th>4</th>\n",
       "      <td>um</td>\n",
       "      <td>35.0</td>\n",
       "      <td>0.0</td>\n",
       "      <td>43.9866</td>\n",
       "      <td>0.002466</td>\n",
       "      <td>40</td>\n",
       "      <td>dimersa_mu.dat</td>\n",
       "    </tr>\n",
       "    <tr>\n",
       "      <th>...</th>\n",
       "      <td>...</td>\n",
       "      <td>...</td>\n",
       "      <td>...</td>\n",
       "      <td>...</td>\n",
       "      <td>...</td>\n",
       "      <td>...</td>\n",
       "      <td>...</td>\n",
       "    </tr>\n",
       "    <tr>\n",
       "      <th>407</th>\n",
       "      <td>mu</td>\n",
       "      <td>30.0</td>\n",
       "      <td>5.0</td>\n",
       "      <td>27.8203</td>\n",
       "      <td>0.050847</td>\n",
       "      <td>40</td>\n",
       "      <td>dimersy_mu.dat</td>\n",
       "    </tr>\n",
       "    <tr>\n",
       "      <th>408</th>\n",
       "      <td>um</td>\n",
       "      <td>40.0</td>\n",
       "      <td>5.0</td>\n",
       "      <td>50.2651</td>\n",
       "      <td>0.001403</td>\n",
       "      <td>40</td>\n",
       "      <td>dimersy_mu.dat</td>\n",
       "    </tr>\n",
       "    <tr>\n",
       "      <th>409</th>\n",
       "      <td>mu</td>\n",
       "      <td>40.0</td>\n",
       "      <td>5.0</td>\n",
       "      <td>34.1661</td>\n",
       "      <td>0.114877</td>\n",
       "      <td>40</td>\n",
       "      <td>dimersy_mu.dat</td>\n",
       "    </tr>\n",
       "    <tr>\n",
       "      <th>410</th>\n",
       "      <td>um</td>\n",
       "      <td>50.0</td>\n",
       "      <td>5.0</td>\n",
       "      <td>62.8314</td>\n",
       "      <td>0.001753</td>\n",
       "      <td>40</td>\n",
       "      <td>dimersy_mu.dat</td>\n",
       "    </tr>\n",
       "    <tr>\n",
       "      <th>411</th>\n",
       "      <td>mu</td>\n",
       "      <td>50.0</td>\n",
       "      <td>5.0</td>\n",
       "      <td>40.1244</td>\n",
       "      <td>0.178713</td>\n",
       "      <td>40</td>\n",
       "      <td>dimersy_mu.dat</td>\n",
       "    </tr>\n",
       "  </tbody>\n",
       "</table>\n",
       "<p>412 rows × 7 columns</p>\n",
       "</div>"
      ],
      "text/plain": [
       "    quantity   A01  dlength    value     error  njobs            file\n",
       "0         um  25.0      0.0  31.4190  0.001764     40  dimersa_mu.dat\n",
       "1         mu  25.0      0.0  19.1818  0.069135     40  dimersa_mu.dat\n",
       "2         um  30.0      0.0  37.7028  0.002116     40  dimersa_mu.dat\n",
       "3         mu  30.0      0.0  21.3183  0.111053     40  dimersa_mu.dat\n",
       "4         um  35.0      0.0  43.9866  0.002466     40  dimersa_mu.dat\n",
       "..       ...   ...      ...      ...       ...    ...             ...\n",
       "407       mu  30.0      5.0  27.8203  0.050847     40  dimersy_mu.dat\n",
       "408       um  40.0      5.0  50.2651  0.001403     40  dimersy_mu.dat\n",
       "409       mu  40.0      5.0  34.1661  0.114877     40  dimersy_mu.dat\n",
       "410       um  50.0      5.0  62.8314  0.001753     40  dimersy_mu.dat\n",
       "411       mu  50.0      5.0  40.1244  0.178713     40  dimersy_mu.dat\n",
       "\n",
       "[412 rows x 7 columns]"
      ]
     },
     "execution_count": 10,
     "metadata": {},
     "output_type": "execute_result"
    }
   ],
   "source": [
    "schema = {'quantity':str, 'A01':float, 'dlength':float, 'value':float, 'error':float, 'njobs':int, 'file':str}\n",
    "dimers = pd.read_csv('dimers_all.dat', sep='\\t', names=schema.keys(), dtype=schema)\n",
    "dimers"
   ]
  },
  {
   "cell_type": "code",
   "execution_count": 37,
   "metadata": {},
   "outputs": [
    {
     "data": {
      "text/plain": [
       "dlength\n",
       "0.0    23.293450\n",
       "0.1    23.593750\n",
       "0.2    24.225750\n",
       "0.3    25.115050\n",
       "0.4    26.151450\n",
       "0.5    27.254800\n",
       "0.6    28.353550\n",
       "0.7    29.354100\n",
       "0.8    30.184800\n",
       "0.9    30.792350\n",
       "1.0    31.136167\n",
       "1.1    31.318850\n",
       "1.2    31.331250\n",
       "1.3    31.301050\n",
       "1.4    31.262100\n",
       "1.5    31.203950\n",
       "1.6    31.153250\n",
       "1.7    31.167300\n",
       "1.8    31.255750\n",
       "1.9    31.334900\n",
       "2.0    31.366867\n",
       "3.0    31.118100\n",
       "4.0    31.302700\n",
       "5.0    31.393600\n",
       "Name: value, dtype: float64"
      ]
     },
     "execution_count": 37,
     "metadata": {},
     "output_type": "execute_result"
    }
   ],
   "source": [
    "slice = (dimers['quantity'] == 'mu') & (dimers['A01'] == 35)\n",
    "ser35 = dimers[slice][['dlength', 'value']].groupby('dlength').mean()['value']\n",
    "ser35"
   ]
  },
  {
   "cell_type": "code",
   "execution_count": 36,
   "metadata": {},
   "outputs": [
    {
     "data": {
      "text/plain": [
       "A01\n",
       "0.0      0.000000\n",
       "5.0      5.672815\n",
       "10.0    10.239900\n",
       "15.0    13.876050\n",
       "20.0    16.778500\n",
       "25.0    19.185700\n",
       "Name: value, dtype: float64"
      ]
     },
     "execution_count": 36,
     "metadata": {},
     "output_type": "execute_result"
    }
   ],
   "source": [
    "slice = (mudimer['quantity'] == 'mu') & (mudimer['dlength'] == 0.0)\n",
    "mudimer[slice][['A01', 'value']].groupby('A01').mean()['value']"
   ]
  },
  {
   "cell_type": "code",
   "execution_count": 48,
   "metadata": {},
   "outputs": [
    {
     "data": {
      "text/plain": [
       "A01\n",
       "0.0      0.00000\n",
       "10.0     5.67216\n",
       "20.0    10.24010\n",
       "30.0    13.88090\n",
       "40.0    16.78660\n",
       "50.0    19.18960\n",
       "0.0      0.00000\n",
       "10.0     5.67347\n",
       "20.0    10.23970\n",
       "30.0    13.87120\n",
       "40.0    16.77040\n",
       "50.0    19.18180\n",
       "0.0      0.00000\n",
       "10.0     5.67325\n",
       "20.0    10.24020\n",
       "30.0    13.87430\n",
       "40.0    16.75940\n",
       "50.0    19.10930\n",
       "0.0      0.00000\n",
       "10.0     5.67323\n",
       "20.0    10.24070\n",
       "30.0    13.87410\n",
       "40.0    16.77160\n",
       "50.0    19.17930\n",
       "Name: value, dtype: float64"
      ]
     },
     "execution_count": 48,
     "metadata": {},
     "output_type": "execute_result"
    }
   ],
   "source": [
    "slice = (muref['quantity']=='mu') & (muref['A01'] % 10 == 0)\n",
    "muref[slice].set_index('A01')"
   ]
  },
  {
   "cell_type": "code",
   "execution_count": 12,
   "metadata": {},
   "outputs": [
    {
     "data": {
      "text/plain": [
       "A01\n",
       "0.0      0.00000\n",
       "10.0     5.67325\n",
       "20.0    10.24020\n",
       "30.0    13.87430\n",
       "40.0    16.75940\n",
       "50.0    19.10930\n",
       "0.0      0.00000\n",
       "10.0     5.67323\n",
       "20.0    10.24070\n",
       "30.0    13.87410\n",
       "40.0    16.77160\n",
       "50.0    19.17930\n",
       "Name: value, dtype: float64"
      ]
     },
     "execution_count": 12,
     "metadata": {},
     "output_type": "execute_result"
    }
   ],
   "source": [
    "slice = (muref['quantity']=='mu') & muref['file'].str.startswith('muref2') & (muref['A01'] % 10 == 0)\n",
    "muref[slice].set_index('A01')['value']"
   ]
  },
  {
   "cell_type": "code",
   "execution_count": 19,
   "metadata": {},
   "outputs": [
    {
     "data": {
      "text/plain": [
       "(0.0, 25.0)"
      ]
     },
     "execution_count": 19,
     "metadata": {},
     "output_type": "execute_result"
    },
    {
     "data": {
      "image/png": "[encoded data removed]",
      "text/plain": [
       "<Figure size 432x288 with 1 Axes>"
      ]
     },
     "metadata": {
      "needs_background": "light"
     },
     "output_type": "display_data"
    }
   ],
   "source": [
    "plt.plot(A01, μ_ex, '-', label='HNC')\n",
    "\n",
    "#μ_rpa = ρ0 * np.pi * A01 / 15\n",
    "#plt.plot(A01, μ_rpa, '--', label='RPA')\n",
    "\n",
    "slice = (muref['quantity']=='mu') & muref['file'].str.startswith('muref2')\n",
    "ser = muref[slice][['A01', 'value']].groupby('A01').mean()['value']\n",
    "plt.plot(ser.index, ser, 'o', label='DPD')\n",
    "\n",
    "plt.xlabel(r'$A_{01}$')\n",
    "plt.ylabel(r'$\\mu_1^\\mathrm{ex}$')\n",
    "plt.legend(loc='upper left')\n",
    "plt.xlim([0, np.max(A01)])\n",
    "plt.ylim([0, 25])"
   ]
  },
  {
   "cell_type": "code",
   "execution_count": 33,
   "metadata": {},
   "outputs": [
    {
     "data": {
      "text/html": [
       "<div>\n",
       "<style scoped>\n",
       "    .dataframe tbody tr th:only-of-type {\n",
       "        vertical-align: middle;\n",
       "    }\n",
       "\n",
       "    .dataframe tbody tr th {\n",
       "        vertical-align: top;\n",
       "    }\n",
       "\n",
       "    .dataframe thead th {\n",
       "        text-align: right;\n",
       "    }\n",
       "</style>\n",
       "<table border=\"1\" class=\"dataframe\">\n",
       "  <thead>\n",
       "    <tr style=\"text-align: right;\">\n",
       "      <th></th>\n",
       "      <th>A01</th>\n",
       "      <th>PMF0</th>\n",
       "      <th>mu_ex</th>\n",
       "      <th>PMF0+2muex</th>\n",
       "    </tr>\n",
       "  </thead>\n",
       "  <tbody>\n",
       "    <tr>\n",
       "      <th>0</th>\n",
       "      <td>0.0</td>\n",
       "      <td>0.000000</td>\n",
       "      <td>0.000000</td>\n",
       "      <td>0.000000</td>\n",
       "    </tr>\n",
       "    <tr>\n",
       "      <th>1</th>\n",
       "      <td>5.0</td>\n",
       "      <td>-0.302140</td>\n",
       "      <td>2.981029</td>\n",
       "      <td>5.659919</td>\n",
       "    </tr>\n",
       "    <tr>\n",
       "      <th>2</th>\n",
       "      <td>10.0</td>\n",
       "      <td>-1.114141</td>\n",
       "      <td>5.661683</td>\n",
       "      <td>10.209225</td>\n",
       "    </tr>\n",
       "    <tr>\n",
       "      <th>3</th>\n",
       "      <td>15.0</td>\n",
       "      <td>-2.326902</td>\n",
       "      <td>8.070124</td>\n",
       "      <td>13.813345</td>\n",
       "    </tr>\n",
       "    <tr>\n",
       "      <th>4</th>\n",
       "      <td>20.0</td>\n",
       "      <td>-3.850839</td>\n",
       "      <td>10.231833</td>\n",
       "      <td>16.612827</td>\n",
       "    </tr>\n",
       "    <tr>\n",
       "      <th>5</th>\n",
       "      <td>25.0</td>\n",
       "      <td>-5.604085</td>\n",
       "      <td>12.170601</td>\n",
       "      <td>18.737117</td>\n",
       "    </tr>\n",
       "    <tr>\n",
       "      <th>6</th>\n",
       "      <td>30.0</td>\n",
       "      <td>-7.510564</td>\n",
       "      <td>13.909039</td>\n",
       "      <td>20.307514</td>\n",
       "    </tr>\n",
       "    <tr>\n",
       "      <th>7</th>\n",
       "      <td>35.0</td>\n",
       "      <td>-9.501900</td>\n",
       "      <td>15.468705</td>\n",
       "      <td>21.435511</td>\n",
       "    </tr>\n",
       "    <tr>\n",
       "      <th>8</th>\n",
       "      <td>40.0</td>\n",
       "      <td>-11.520255</td>\n",
       "      <td>16.869966</td>\n",
       "      <td>22.219677</td>\n",
       "    </tr>\n",
       "    <tr>\n",
       "      <th>9</th>\n",
       "      <td>45.0</td>\n",
       "      <td>-13.520316</td>\n",
       "      <td>18.131742</td>\n",
       "      <td>22.743169</td>\n",
       "    </tr>\n",
       "    <tr>\n",
       "      <th>10</th>\n",
       "      <td>50.0</td>\n",
       "      <td>-15.469566</td>\n",
       "      <td>19.271259</td>\n",
       "      <td>23.072953</td>\n",
       "    </tr>\n",
       "    <tr>\n",
       "      <th>11</th>\n",
       "      <td>55.0</td>\n",
       "      <td>-17.346940</td>\n",
       "      <td>20.303898</td>\n",
       "      <td>23.260857</td>\n",
       "    </tr>\n",
       "    <tr>\n",
       "      <th>12</th>\n",
       "      <td>60.0</td>\n",
       "      <td>-19.140542</td>\n",
       "      <td>21.243171</td>\n",
       "      <td>23.345800</td>\n",
       "    </tr>\n",
       "  </tbody>\n",
       "</table>\n",
       "</div>"
      ],
      "text/plain": [
       "     A01       PMF0      mu_ex  PMF0+2muex\n",
       "0    0.0   0.000000   0.000000    0.000000\n",
       "1    5.0  -0.302140   2.981029    5.659919\n",
       "2   10.0  -1.114141   5.661683   10.209225\n",
       "3   15.0  -2.326902   8.070124   13.813345\n",
       "4   20.0  -3.850839  10.231833   16.612827\n",
       "5   25.0  -5.604085  12.170601   18.737117\n",
       "6   30.0  -7.510564  13.909039   20.307514\n",
       "7   35.0  -9.501900  15.468705   21.435511\n",
       "8   40.0 -11.520255  16.869966   22.219677\n",
       "9   45.0 -13.520316  18.131742   22.743169\n",
       "10  50.0 -15.469566  19.271259   23.072953\n",
       "11  55.0 -17.346940  20.303898   23.260857\n",
       "12  60.0 -19.140542  21.243171   23.345800"
      ]
     },
     "execution_count": 33,
     "metadata": {},
     "output_type": "execute_result"
    }
   ],
   "source": [
    "A01 = np.linspace(0, 60, 13)\n",
    "μ_ex = np.empty(len(A01))\n",
    "pmf_overlap = np.empty(len(A01))\n",
    "\n",
    "for i, A in enumerate(np.flipud(A01)[:-1]):\n",
    "    φ01 = dpd_potential(A, r)\n",
    "    soln = solute.solve(φ01, monitor=verbose)\n",
    "    h01, c01, c01q, h01q = soln.hr, soln.cr, soln.cq, soln.hq\n",
    "    μ_ex[len(A01)-i-1] = excess_chemical_potential(h01, c01, r)\n",
    "    pmf_overlap[len(A01)-i-1] = - ρ0 / (2*π**2) * simpson(q**2*c01q*h01q, q)\n",
    "\n",
    "μ_ex[0] = 0.0\n",
    "pmf_overlap[0] = 0.0\n",
    "\n",
    "df = pd.DataFrame(np.array([A01, pmf_overlap, μ_ex]).transpose(), columns=['A01', 'PMF0', 'mu_ex'])\n",
    "df['PMF0+2muex'] = df['PMF0'] + 2*df['mu_ex']\n",
    "df"
   ]
  },
  {
   "cell_type": "code",
   "execution_count": 39,
   "metadata": {},
   "outputs": [
    {
     "data": {
      "text/plain": [
       "(0.0, 59.0)"
      ]
     },
     "execution_count": 39,
     "metadata": {},
     "output_type": "execute_result"
    },
    {
     "data": {
      "image/png": "[encoded data removed]",
      "text/plain": [
       "<Figure size 432x288 with 1 Axes>"
      ]
     },
     "metadata": {
      "needs_background": "light"
     },
     "output_type": "display_data"
    }
   ],
   "source": [
    "plt.plot(A01, pmf_overlap+2*μ_ex, '-', label='PMF')\n",
    "plt.plot(A01, μ_ex, '-', label='mu')\n",
    "\n",
    "plt.xlabel(r'$A_{01}$')\n",
    "plt.ylabel(r'$\\beta \\Delta \\Omega_{11}(0)$')\n",
    "plt.legend(loc='upper left')\n",
    "plt.xlim([0, np.max(A01)])\n",
    "#plt.ylim([0, 25])\n"
   ]
  },
  {
   "cell_type": "code",
   "execution_count": 34,
   "metadata": {},
   "outputs": [
    {
     "data": {
      "text/plain": [
       "A01\n",
       "0.0      0.00000\n",
       "5.0      2.98545\n",
       "10.0     5.67323\n",
       "15.0     8.08463\n",
       "20.0    10.24070\n",
       "25.0    12.16280\n",
       "30.0    13.87410\n",
       "35.0    15.40020\n",
       "40.0    16.77160\n",
       "45.0    18.02120\n",
       "50.0    19.17930\n",
       "Name: value, dtype: float64"
      ]
     },
     "execution_count": 34,
     "metadata": {},
     "output_type": "execute_result"
    }
   ],
   "source": [
    "muex = muref[muref['file'].str.startswith('muref2') & (muref['quantity'] == 'mu')].set_index('A01')['value']\n",
    "muex"
   ]
  },
  {
   "cell_type": "code",
   "execution_count": 22,
   "metadata": {},
   "outputs": [],
   "source": [
    "saathoff_15 = np.loadtxt('Saathoff_JCP2018_fig5a_A12equals15.dat').transpose()\n",
    "saathoff_25 = np.loadtxt('Saathoff_JCP2018_fig5a_A12equals25.dat').transpose()\n",
    "saathoff_35 = np.loadtxt('Saathoff_JCP2018_fig5a_A12equals35.dat').transpose()\n"
   ]
  },
  {
   "cell_type": "code",
   "execution_count": 24,
   "metadata": {},
   "outputs": [
    {
     "data": {
      "text/plain": [
       "[<matplotlib.lines.Line2D at 0x74310206c0d0>]"
      ]
     },
     "execution_count": 24,
     "metadata": {},
     "output_type": "execute_result"
    },
    {
     "data": {
      "image/png": "[encoded data removed]",
      "text/plain": [
       "<Figure size 432x288 with 1 Axes>"
      ]
     },
     "metadata": {
      "needs_background": "light"
     },
     "output_type": "display_data"
    }
   ],
   "source": [
    "plt.plot(saathoff_15[0], saathoff_15[1])"
   ]
  },
  {
   "cell_type": "code",
   "execution_count": null,
   "metadata": {},
   "outputs": [],
   "source": [
    "A01 = 50\n",
    "slice = (dimer['quantity'] == 'mu') & (dimer['A01'] == A01)\n"
   ]
  },
  {
   "cell_type": "code",
   "execution_count": 13,
   "metadata": {},
   "outputs": [],
   "source": [
    "dimer_all = pd.concat([dimer, dimers], ignore_index=True, sort=False)"
   ]
  },
  {
   "cell_type": "code",
   "execution_count": 47,
   "metadata": {},
   "outputs": [
    {
     "data": {
      "text/plain": [
       "dlength\n",
       "0.0    19.18570\n",
       "0.1    19.36925\n",
       "0.2    19.78445\n",
       "0.3    20.37710\n",
       "0.4    21.08415\n",
       "0.5    21.83880\n",
       "0.6    22.57455\n",
       "0.7    23.23005\n",
       "0.8    23.75365\n",
       "0.9    24.11560\n",
       "1.0    24.31718\n",
       "1.1    24.40615\n",
       "1.2    24.41640\n",
       "1.3    24.39770\n",
       "1.4    24.36810\n",
       "1.5    24.33940\n",
       "1.6    24.32725\n",
       "1.7    24.34180\n",
       "1.8    24.37490\n",
       "1.9    24.40165\n",
       "2.0    24.41120\n",
       "3.0    24.33660\n",
       "4.0    24.40080\n",
       "5.0    24.41910\n",
       "Name: value, dtype: float64"
      ]
     },
     "execution_count": 47,
     "metadata": {},
     "output_type": "execute_result"
    }
   ],
   "source": [
    "A02 = 35\n",
    "slice = (dimer_all['quantity'] == 'mu') & (dimer_all['A01'] == A01)\n",
    "dimer_all[slice][['dlength', 'value']].groupby('dlength').mean()['value']\n"
   ]
  },
  {
   "cell_type": "code",
   "execution_count": 61,
   "metadata": {},
   "outputs": [
    {
     "data": {
      "text/plain": [
       "array([ 0,  5, 10, 15, 20, 25, 30])"
      ]
     },
     "execution_count": 61,
     "metadata": {},
     "output_type": "execute_result"
    }
   ],
   "source": [
    "np.arange(0, 35, 5)"
   ]
  },
  {
   "cell_type": "code",
   "execution_count": 78,
   "metadata": {},
   "outputs": [
    {
     "data": {
      "text/html": [
       "<div>\n",
       "<style scoped>\n",
       "    .dataframe tbody tr th:only-of-type {\n",
       "        vertical-align: middle;\n",
       "    }\n",
       "\n",
       "    .dataframe tbody tr th {\n",
       "        vertical-align: top;\n",
       "    }\n",
       "\n",
       "    .dataframe thead th {\n",
       "        text-align: right;\n",
       "    }\n",
       "</style>\n",
       "<table border=\"1\" class=\"dataframe\">\n",
       "  <thead>\n",
       "    <tr style=\"text-align: right;\">\n",
       "      <th></th>\n",
       "      <th>muref(2*A01)</th>\n",
       "    </tr>\n",
       "    <tr>\n",
       "      <th>A01</th>\n",
       "      <th></th>\n",
       "    </tr>\n",
       "  </thead>\n",
       "  <tbody>\n",
       "    <tr>\n",
       "      <th>0.0</th>\n",
       "      <td>0.00000</td>\n",
       "    </tr>\n",
       "    <tr>\n",
       "      <th>5.0</th>\n",
       "      <td>5.67323</td>\n",
       "    </tr>\n",
       "    <tr>\n",
       "      <th>10.0</th>\n",
       "      <td>10.24070</td>\n",
       "    </tr>\n",
       "    <tr>\n",
       "      <th>15.0</th>\n",
       "      <td>13.87410</td>\n",
       "    </tr>\n",
       "    <tr>\n",
       "      <th>20.0</th>\n",
       "      <td>16.77160</td>\n",
       "    </tr>\n",
       "    <tr>\n",
       "      <th>25.0</th>\n",
       "      <td>19.17930</td>\n",
       "    </tr>\n",
       "  </tbody>\n",
       "</table>\n",
       "</div>"
      ],
      "text/plain": [
       "      muref(2*A01)\n",
       "A01               \n",
       "0.0        0.00000\n",
       "5.0        5.67323\n",
       "10.0      10.24070\n",
       "15.0      13.87410\n",
       "20.0      16.77160\n",
       "25.0      19.17930"
      ]
     },
     "execution_count": 78,
     "metadata": {},
     "output_type": "execute_result"
    }
   ],
   "source": [
    "df2 = pd.DataFrame([(A01, muref_ser[2*A01]) for A01 in df.index if 2*A01 in muref_ser],\n",
    "                   columns=['A01', 'muref(2*A01)']).set_index('A01')\n",
    "df2"
   ]
  },
  {
   "cell_type": "code",
   "execution_count": 89,
   "metadata": {},
   "outputs": [
    {
     "data": {
      "text/html": [
       "<div>\n",
       "<style scoped>\n",
       "    .dataframe tbody tr th:only-of-type {\n",
       "        vertical-align: middle;\n",
       "    }\n",
       "\n",
       "    .dataframe tbody tr th {\n",
       "        vertical-align: top;\n",
       "    }\n",
       "\n",
       "    .dataframe thead th {\n",
       "        text-align: right;\n",
       "    }\n",
       "</style>\n",
       "<table border=\"1\" class=\"dataframe\">\n",
       "  <thead>\n",
       "    <tr style=\"text-align: right;\">\n",
       "      <th></th>\n",
       "      <th>PMF(0)</th>\n",
       "      <th>muref(2*A01)</th>\n",
       "    </tr>\n",
       "    <tr>\n",
       "      <th>A01</th>\n",
       "      <th></th>\n",
       "      <th></th>\n",
       "    </tr>\n",
       "  </thead>\n",
       "  <tbody>\n",
       "    <tr>\n",
       "      <th>0.0</th>\n",
       "      <td>0.000000</td>\n",
       "      <td>0.00000</td>\n",
       "    </tr>\n",
       "    <tr>\n",
       "      <th>5.0</th>\n",
       "      <td>5.672815</td>\n",
       "      <td>5.67323</td>\n",
       "    </tr>\n",
       "    <tr>\n",
       "      <th>10.0</th>\n",
       "      <td>10.239900</td>\n",
       "      <td>10.24070</td>\n",
       "    </tr>\n",
       "    <tr>\n",
       "      <th>15.0</th>\n",
       "      <td>13.876050</td>\n",
       "      <td>13.87410</td>\n",
       "    </tr>\n",
       "    <tr>\n",
       "      <th>20.0</th>\n",
       "      <td>16.778500</td>\n",
       "      <td>16.77160</td>\n",
       "    </tr>\n",
       "    <tr>\n",
       "      <th>25.0</th>\n",
       "      <td>19.185700</td>\n",
       "      <td>19.17930</td>\n",
       "    </tr>\n",
       "    <tr>\n",
       "      <th>30.0</th>\n",
       "      <td>21.313850</td>\n",
       "      <td>NaN</td>\n",
       "    </tr>\n",
       "    <tr>\n",
       "      <th>35.0</th>\n",
       "      <td>23.293450</td>\n",
       "      <td>NaN</td>\n",
       "    </tr>\n",
       "  </tbody>\n",
       "</table>\n",
       "</div>"
      ],
      "text/plain": [
       "         PMF(0)  muref(2*A01)\n",
       "A01                          \n",
       "0.0    0.000000       0.00000\n",
       "5.0    5.672815       5.67323\n",
       "10.0  10.239900      10.24070\n",
       "15.0  13.876050      13.87410\n",
       "20.0  16.778500      16.77160\n",
       "25.0  19.185700      19.17930\n",
       "30.0  21.313850           NaN\n",
       "35.0  23.293450           NaN"
      ]
     },
     "execution_count": 89,
     "metadata": {},
     "output_type": "execute_result"
    }
   ],
   "source": [
    "slice = (dimer_all['quantity'] == 'mu') & (dimer_all['dlength'] == 0)\n",
    "df1 = dimer_all[slice][['A01', 'value']].groupby('A01').mean()\n",
    "df1.rename(columns={'value': 'PMF(0)'}).join(df2)"
   ]
  },
  {
   "cell_type": "code",
   "execution_count": 82,
   "metadata": {},
   "outputs": [
    {
     "data": {
      "text/html": [
       "<div>\n",
       "<style scoped>\n",
       "    .dataframe tbody tr th:only-of-type {\n",
       "        vertical-align: middle;\n",
       "    }\n",
       "\n",
       "    .dataframe tbody tr th {\n",
       "        vertical-align: top;\n",
       "    }\n",
       "\n",
       "    .dataframe thead th {\n",
       "        text-align: right;\n",
       "    }\n",
       "</style>\n",
       "<table border=\"1\" class=\"dataframe\">\n",
       "  <thead>\n",
       "    <tr style=\"text-align: right;\">\n",
       "      <th></th>\n",
       "      <th>value</th>\n",
       "      <th>muref(2*A01)</th>\n",
       "    </tr>\n",
       "    <tr>\n",
       "      <th>A01</th>\n",
       "      <th></th>\n",
       "      <th></th>\n",
       "    </tr>\n",
       "  </thead>\n",
       "  <tbody>\n",
       "    <tr>\n",
       "      <th>0.0</th>\n",
       "      <td>0.000000</td>\n",
       "      <td>0.00000</td>\n",
       "    </tr>\n",
       "    <tr>\n",
       "      <th>5.0</th>\n",
       "      <td>5.672815</td>\n",
       "      <td>5.67323</td>\n",
       "    </tr>\n",
       "    <tr>\n",
       "      <th>10.0</th>\n",
       "      <td>10.239900</td>\n",
       "      <td>10.24070</td>\n",
       "    </tr>\n",
       "    <tr>\n",
       "      <th>15.0</th>\n",
       "      <td>13.876050</td>\n",
       "      <td>13.87410</td>\n",
       "    </tr>\n",
       "    <tr>\n",
       "      <th>20.0</th>\n",
       "      <td>16.778500</td>\n",
       "      <td>16.77160</td>\n",
       "    </tr>\n",
       "    <tr>\n",
       "      <th>25.0</th>\n",
       "      <td>19.185700</td>\n",
       "      <td>19.17930</td>\n",
       "    </tr>\n",
       "    <tr>\n",
       "      <th>30.0</th>\n",
       "      <td>21.313850</td>\n",
       "      <td>NaN</td>\n",
       "    </tr>\n",
       "    <tr>\n",
       "      <th>35.0</th>\n",
       "      <td>23.293450</td>\n",
       "      <td>NaN</td>\n",
       "    </tr>\n",
       "  </tbody>\n",
       "</table>\n",
       "</div>"
      ],
      "text/plain": [
       "          value  muref(2*A01)\n",
       "A01                          \n",
       "0.0    0.000000       0.00000\n",
       "5.0    5.672815       5.67323\n",
       "10.0  10.239900      10.24070\n",
       "15.0  13.876050      13.87410\n",
       "20.0  16.778500      16.77160\n",
       "25.0  19.185700      19.17930\n",
       "30.0  21.313850           NaN\n",
       "35.0  23.293450           NaN"
      ]
     },
     "execution_count": 82,
     "metadata": {},
     "output_type": "execute_result"
    }
   ],
   "source": [
    "df1.join(df2)"
   ]
  },
  {
   "cell_type": "code",
   "execution_count": 17,
   "metadata": {},
   "outputs": [
    {
     "name": "stderr",
     "output_type": "stream",
     "text": [
      "/home/patrick/GitHub/python3-HNC-solver/pyHNC.py:105: RuntimeWarning: overflow encountered in exp\n",
      "  cr_new = np.exp(-vr+er) - er - 1 # iterate with the HNC closure\n",
      "/home/patrick/GitHub/python3-HNC-solver/pyHNC.py:109: RuntimeWarning: invalid value encountered in subtract\n",
      "  self.error = np.sqrt(np.trapz((cr_new - cr)**2, dx=self.grid.deltar)) # convergence test\n",
      "/home/patrick/GitHub/python3-HNC-solver/pyHNC.py:109: RuntimeWarning: overflow encountered in square\n",
      "  self.error = np.sqrt(np.trapz((cr_new - cr)**2, dx=self.grid.deltar)) # convergence test\n",
      "/home/patrick/GitHub/python3-HNC-solver/pyHNC.py:105: RuntimeWarning: overflow encountered in exp\n",
      "  cr_new = np.exp(-vr+er) - er - 1 # iterate with the HNC closure\n",
      "/home/patrick/GitHub/python3-HNC-solver/pyHNC.py:109: RuntimeWarning: invalid value encountered in subtract\n",
      "  self.error = np.sqrt(np.trapz((cr_new - cr)**2, dx=self.grid.deltar)) # convergence test\n",
      "/home/patrick/GitHub/python3-HNC-solver/pyHNC.py:105: RuntimeWarning: overflow encountered in exp\n",
      "  cr_new = np.exp(-vr+er) - er - 1 # iterate with the HNC closure\n",
      "/home/patrick/GitHub/python3-HNC-solver/pyHNC.py:109: RuntimeWarning: invalid value encountered in subtract\n",
      "  self.error = np.sqrt(np.trapz((cr_new - cr)**2, dx=self.grid.deltar)) # convergence test\n",
      "/home/patrick/GitHub/python3-HNC-solver/pyHNC.py:109: RuntimeWarning: overflow encountered in square\n",
      "  self.error = np.sqrt(np.trapz((cr_new - cr)**2, dx=self.grid.deltar)) # convergence test\n"
     ]
    },
    {
     "data": {
      "text/plain": [
       "Text(0, 0.5, '$\\\\beta \\\\Delta \\\\Omega_{11}(r)$')"
      ]
     },
     "execution_count": 17,
     "metadata": {},
     "output_type": "execute_result"
    },
    {
     "data": {
      "image/png": "[encoded data removed]",
      "text/plain": [
       "<Figure size 432x288 with 1 Axes>"
      ]
     },
     "metadata": {
      "needs_background": "light"
     },
     "output_type": "display_data"
    }
   ],
   "source": [
    "for A01 in np.arange(0, 40, 5):\n",
    "    φ01 = dpd_potential(A01, r)\n",
    "    soln = solute.solve(φ01, monitor=verbose)\n",
    "    h01, c01, h01q = soln.hr, soln.cr, soln.hq\n",
    "    c01q = grid.fourier_bessel_forward(c01)\n",
    "    depletion11 = - ρ0 * grid.fourier_bessel_backward(c01q * h01q)\n",
    "    plt.plot(r, depletion11, label=(r'$A_{01}=' + f'{A01}$'))\n",
    "    c = plt.gca().lines[-1].get_color()\n",
    "    slice = (dimer_all['quantity'] == 'mu') & (dimer_all['A01'] == A01)\n",
    "    ser = dimer_all[slice][['dlength', 'value']].groupby('dlength').mean()['value']\n",
    "    plt.plot(ser.index, ser-2*muref_ser[A01], 'o', color=c)\n",
    "\n",
    "#plt.plot(saathoff_15[0], saathoff_15[1], 'kx--', label='Saathoff 15')\n",
    "#plt.plot(saathoff_25[0], saathoff_25[1], 'rx--', label='Saathoff 25')\n",
    "#plt.plot(saathoff_35[0], saathoff_35[1], 'bx--', label='Saathoff 35')\n",
    "\n",
    "    \n",
    "plt.legend(loc='best', fontsize=8)\n",
    "plt.xlabel('$r$')\n",
    "plt.xlim([0, 2])\n",
    "\n",
    "plt.ylabel(r'$\\beta \\Delta \\Omega_{11}(r)$')\n"
   ]
  },
  {
   "cell_type": "code",
   "execution_count": 32,
   "metadata": {},
   "outputs": [
    {
     "data": {
      "text/html": [
       "<div>\n",
       "<style scoped>\n",
       "    .dataframe tbody tr th:only-of-type {\n",
       "        vertical-align: middle;\n",
       "    }\n",
       "\n",
       "    .dataframe tbody tr th {\n",
       "        vertical-align: top;\n",
       "    }\n",
       "\n",
       "    .dataframe thead th {\n",
       "        text-align: right;\n",
       "    }\n",
       "</style>\n",
       "<table border=\"1\" class=\"dataframe\">\n",
       "  <thead>\n",
       "    <tr style=\"text-align: right;\">\n",
       "      <th></th>\n",
       "      <th>2&lt;U&gt;</th>\n",
       "    </tr>\n",
       "    <tr>\n",
       "      <th>A01</th>\n",
       "      <th></th>\n",
       "    </tr>\n",
       "  </thead>\n",
       "  <tbody>\n",
       "    <tr>\n",
       "      <th>0.0</th>\n",
       "      <td>0.000000</td>\n",
       "    </tr>\n",
       "    <tr>\n",
       "      <th>5.0</th>\n",
       "      <td>6.283250</td>\n",
       "    </tr>\n",
       "    <tr>\n",
       "      <th>10.0</th>\n",
       "      <td>12.566505</td>\n",
       "    </tr>\n",
       "    <tr>\n",
       "      <th>15.0</th>\n",
       "      <td>18.849755</td>\n",
       "    </tr>\n",
       "    <tr>\n",
       "      <th>20.0</th>\n",
       "      <td>25.133000</td>\n",
       "    </tr>\n",
       "    <tr>\n",
       "      <th>25.0</th>\n",
       "      <td>31.416250</td>\n",
       "    </tr>\n",
       "    <tr>\n",
       "      <th>30.0</th>\n",
       "      <td>37.699500</td>\n",
       "    </tr>\n",
       "    <tr>\n",
       "      <th>35.0</th>\n",
       "      <td>43.982750</td>\n",
       "    </tr>\n",
       "    <tr>\n",
       "      <th>40.0</th>\n",
       "      <td>50.266000</td>\n",
       "    </tr>\n",
       "    <tr>\n",
       "      <th>45.0</th>\n",
       "      <td>56.549300</td>\n",
       "    </tr>\n",
       "    <tr>\n",
       "      <th>50.0</th>\n",
       "      <td>62.832500</td>\n",
       "    </tr>\n",
       "  </tbody>\n",
       "</table>\n",
       "</div>"
      ],
      "text/plain": [
       "           2<U>\n",
       "A01            \n",
       "0.0    0.000000\n",
       "5.0    6.283250\n",
       "10.0  12.566505\n",
       "15.0  18.849755\n",
       "20.0  25.133000\n",
       "25.0  31.416250\n",
       "30.0  37.699500\n",
       "35.0  43.982750\n",
       "40.0  50.266000\n",
       "45.0  56.549300\n",
       "50.0  62.832500"
      ]
     },
     "execution_count": 32,
     "metadata": {},
     "output_type": "execute_result"
    }
   ],
   "source": [
    "slice = (muref['quantity'] == 'um')\n",
    "df1 = muref[slice][['A01', 'value']].groupby('A01').mean()*2\n",
    "df1.rename(columns={'value': '2<U>'}, inplace=True)\n",
    "df1"
   ]
  },
  {
   "cell_type": "code",
   "execution_count": 34,
   "metadata": {},
   "outputs": [
    {
     "data": {
      "text/html": [
       "<div>\n",
       "<style scoped>\n",
       "    .dataframe tbody tr th:only-of-type {\n",
       "        vertical-align: middle;\n",
       "    }\n",
       "\n",
       "    .dataframe tbody tr th {\n",
       "        vertical-align: top;\n",
       "    }\n",
       "\n",
       "    .dataframe thead th {\n",
       "        text-align: right;\n",
       "    }\n",
       "</style>\n",
       "<table border=\"1\" class=\"dataframe\">\n",
       "  <thead>\n",
       "    <tr style=\"text-align: right;\">\n",
       "      <th></th>\n",
       "      <th>&lt;U1+U2&gt;</th>\n",
       "    </tr>\n",
       "    <tr>\n",
       "      <th>A01</th>\n",
       "      <th></th>\n",
       "    </tr>\n",
       "  </thead>\n",
       "  <tbody>\n",
       "    <tr>\n",
       "      <th>0.0</th>\n",
       "      <td>0.000000</td>\n",
       "    </tr>\n",
       "    <tr>\n",
       "      <th>5.0</th>\n",
       "      <td>6.283590</td>\n",
       "    </tr>\n",
       "    <tr>\n",
       "      <th>10.0</th>\n",
       "      <td>12.566710</td>\n",
       "    </tr>\n",
       "    <tr>\n",
       "      <th>15.0</th>\n",
       "      <td>18.850740</td>\n",
       "    </tr>\n",
       "    <tr>\n",
       "      <th>20.0</th>\n",
       "      <td>25.133410</td>\n",
       "    </tr>\n",
       "    <tr>\n",
       "      <th>25.0</th>\n",
       "      <td>31.415981</td>\n",
       "    </tr>\n",
       "    <tr>\n",
       "      <th>30.0</th>\n",
       "      <td>37.699127</td>\n",
       "    </tr>\n",
       "    <tr>\n",
       "      <th>35.0</th>\n",
       "      <td>43.982366</td>\n",
       "    </tr>\n",
       "    <tr>\n",
       "      <th>40.0</th>\n",
       "      <td>50.266800</td>\n",
       "    </tr>\n",
       "    <tr>\n",
       "      <th>45.0</th>\n",
       "      <td>56.552280</td>\n",
       "    </tr>\n",
       "    <tr>\n",
       "      <th>50.0</th>\n",
       "      <td>62.833510</td>\n",
       "    </tr>\n",
       "  </tbody>\n",
       "</table>\n",
       "</div>"
      ],
      "text/plain": [
       "        <U1+U2>\n",
       "A01            \n",
       "0.0    0.000000\n",
       "5.0    6.283590\n",
       "10.0  12.566710\n",
       "15.0  18.850740\n",
       "20.0  25.133410\n",
       "25.0  31.415981\n",
       "30.0  37.699127\n",
       "35.0  43.982366\n",
       "40.0  50.266800\n",
       "45.0  56.552280\n",
       "50.0  62.833510"
      ]
     },
     "execution_count": 34,
     "metadata": {},
     "output_type": "execute_result"
    }
   ],
   "source": [
    "slice = (dimers['quantity'] == 'um')\n",
    "df2 = dimers[slice][['A01', 'value']].groupby('A01').mean()\n",
    "df2.rename(columns={'value': '<U1+U2>'}, inplace=True)\n",
    "df2"
   ]
  },
  {
   "cell_type": "code",
   "execution_count": 35,
   "metadata": {},
   "outputs": [
    {
     "data": {
      "text/html": [
       "<div>\n",
       "<style scoped>\n",
       "    .dataframe tbody tr th:only-of-type {\n",
       "        vertical-align: middle;\n",
       "    }\n",
       "\n",
       "    .dataframe tbody tr th {\n",
       "        vertical-align: top;\n",
       "    }\n",
       "\n",
       "    .dataframe thead th {\n",
       "        text-align: right;\n",
       "    }\n",
       "</style>\n",
       "<table border=\"1\" class=\"dataframe\">\n",
       "  <thead>\n",
       "    <tr style=\"text-align: right;\">\n",
       "      <th></th>\n",
       "      <th>2&lt;U&gt;</th>\n",
       "      <th>&lt;U1+U2&gt;</th>\n",
       "    </tr>\n",
       "    <tr>\n",
       "      <th>A01</th>\n",
       "      <th></th>\n",
       "      <th></th>\n",
       "    </tr>\n",
       "  </thead>\n",
       "  <tbody>\n",
       "    <tr>\n",
       "      <th>0.0</th>\n",
       "      <td>0.000000</td>\n",
       "      <td>0.000000</td>\n",
       "    </tr>\n",
       "    <tr>\n",
       "      <th>5.0</th>\n",
       "      <td>6.283250</td>\n",
       "      <td>6.283590</td>\n",
       "    </tr>\n",
       "    <tr>\n",
       "      <th>10.0</th>\n",
       "      <td>12.566505</td>\n",
       "      <td>12.566710</td>\n",
       "    </tr>\n",
       "    <tr>\n",
       "      <th>15.0</th>\n",
       "      <td>18.849755</td>\n",
       "      <td>18.850740</td>\n",
       "    </tr>\n",
       "    <tr>\n",
       "      <th>20.0</th>\n",
       "      <td>25.133000</td>\n",
       "      <td>25.133410</td>\n",
       "    </tr>\n",
       "    <tr>\n",
       "      <th>25.0</th>\n",
       "      <td>31.416250</td>\n",
       "      <td>31.415981</td>\n",
       "    </tr>\n",
       "    <tr>\n",
       "      <th>30.0</th>\n",
       "      <td>37.699500</td>\n",
       "      <td>37.699127</td>\n",
       "    </tr>\n",
       "    <tr>\n",
       "      <th>35.0</th>\n",
       "      <td>43.982750</td>\n",
       "      <td>43.982366</td>\n",
       "    </tr>\n",
       "    <tr>\n",
       "      <th>40.0</th>\n",
       "      <td>50.266000</td>\n",
       "      <td>50.266800</td>\n",
       "    </tr>\n",
       "    <tr>\n",
       "      <th>45.0</th>\n",
       "      <td>56.549300</td>\n",
       "      <td>56.552280</td>\n",
       "    </tr>\n",
       "    <tr>\n",
       "      <th>50.0</th>\n",
       "      <td>62.832500</td>\n",
       "      <td>62.833510</td>\n",
       "    </tr>\n",
       "  </tbody>\n",
       "</table>\n",
       "</div>"
      ],
      "text/plain": [
       "           2<U>    <U1+U2>\n",
       "A01                       \n",
       "0.0    0.000000   0.000000\n",
       "5.0    6.283250   6.283590\n",
       "10.0  12.566505  12.566710\n",
       "15.0  18.849755  18.850740\n",
       "20.0  25.133000  25.133410\n",
       "25.0  31.416250  31.415981\n",
       "30.0  37.699500  37.699127\n",
       "35.0  43.982750  43.982366\n",
       "40.0  50.266000  50.266800\n",
       "45.0  56.549300  56.552280\n",
       "50.0  62.832500  62.833510"
      ]
     },
     "execution_count": 35,
     "metadata": {},
     "output_type": "execute_result"
    }
   ],
   "source": [
    "df1.join(df2)"
   ]
  },
  {
   "cell_type": "code",
   "execution_count": 69,
   "metadata": {},
   "outputs": [
    {
     "data": {
      "text/plain": [
       "-5.604085490618476"
      ]
     },
     "execution_count": 69,
     "metadata": {},
     "output_type": "execute_result"
    }
   ],
   "source": [
    "- ρ0 / (2*π**2) * simpson(q**2*c01q*h01q, q)"
   ]
  },
  {
   "cell_type": "code",
   "execution_count": 73,
   "metadata": {},
   "outputs": [
    {
     "data": {
      "text/html": [
       "<div>\n",
       "<style scoped>\n",
       "    .dataframe tbody tr th:only-of-type {\n",
       "        vertical-align: middle;\n",
       "    }\n",
       "\n",
       "    .dataframe tbody tr th {\n",
       "        vertical-align: top;\n",
       "    }\n",
       "\n",
       "    .dataframe thead th {\n",
       "        text-align: right;\n",
       "    }\n",
       "</style>\n",
       "<table border=\"1\" class=\"dataframe\">\n",
       "  <thead>\n",
       "    <tr style=\"text-align: right;\">\n",
       "      <th></th>\n",
       "      <th>A01</th>\n",
       "      <th>PMF(0)</th>\n",
       "      <th>mu_ex</th>\n",
       "      <th>PMF(0)+2muex</th>\n",
       "    </tr>\n",
       "  </thead>\n",
       "  <tbody>\n",
       "    <tr>\n",
       "      <th>5</th>\n",
       "      <td>25.0</td>\n",
       "      <td>-5.604085</td>\n",
       "      <td>12.170601</td>\n",
       "      <td>18.737117</td>\n",
       "    </tr>\n",
       "  </tbody>\n",
       "</table>\n",
       "</div>"
      ],
      "text/plain": [
       "    A01    PMF(0)      mu_ex  PMF(0)+2muex\n",
       "5  25.0 -5.604085  12.170601     18.737117"
      ]
     },
     "execution_count": 73,
     "metadata": {},
     "output_type": "execute_result"
    }
   ],
   "source": [
    "df7[df7['A01']==25]"
   ]
  },
  {
   "cell_type": "markdown",
   "metadata": {},
   "source": [
    "# 3. Partition coefficients of dimers"
   ]
  },
  {
   "cell_type": "markdown",
   "metadata": {},
   "source": [
    "Taking the depletion potential from the previous section we can integrate over all configurations of a dimer to obtain its chemical potential:"
   ]
  },
  {
   "cell_type": "code",
   "execution_count": 10,
   "metadata": {},
   "outputs": [
    {
     "data": {
      "image/png": "[encoded data removed]",
      "text/plain": [
       "<Figure size 729x453.6 with 1 Axes>"
      ]
     },
     "metadata": {},
     "output_type": "display_data"
    }
   ],
   "source": [
    "def bond_potential(r, l0=0.5, k=150):\n",
    "    \"\"\"Spring force between bonded atoms in a molecule.\"\"\"\n",
    "    return k * (r - l0)**2\n",
    "\n",
    "from scipy.integrate import simpson\n",
    "\n",
    "def dimer_excess_chemical_potential(A1, A2, l0=0.5, k=150):\n",
    "    \"\"\"Excess chemical potential of a non-rigid dimer is found by integrating\n",
    "    the potential of mean force over all configurations of the two beads.\n",
    "\n",
    "    Args:\n",
    "        A1: interaction strength of bead 1 with the solvent.\n",
    "        A2: interaction strength of bead 2 with the solvent.\n",
    "        l0: equilbrium length of dimer in a vacuum.\n",
    "        k: interaction strength between the two beads (a spring constant).\n",
    "    Returns:\n",
    "        Excess chemical potential in units of kT.\n",
    "    \"\"\"\n",
    "    φ01, φ02 = [dpd_potential(A, r) for A in [A1, A2]]\n",
    "    soln = solute.solve(φ01, monitor=verbose)\n",
    "    h01, c01, h01q = soln.hr, soln.cr, soln.hq\n",
    "    soln = solute.solve(φ02, monitor=verbose)\n",
    "    h02, c02, h02q = soln.hr, soln.cr, soln.hq\n",
    "\n",
    "    # Depletion contribution to potential of mean force\n",
    "    psi1q, psi2q = [hq / (1 + ρ0*h00q)**0.5 for hq in [h01q, h02q]]\n",
    "    depletion12 = - ρ0 * grid.fourier_bessel_backward(psi1q*psi2q)\n",
    "\n",
    "    v12 = bond_potential(r, l0, k)\n",
    "    φ12 = v12 + depletion12\n",
    "    return np.log(simpson(4*np.pi * r**2 * np.exp(-φ12), r))\n",
    "\n",
    "A1 = 25\n",
    "A2 = np.arange(5, 76, 5)\n",
    "μ_ex_dimer = [dimer_excess_chemical_potential(A1, A) for A in A2]\n",
    "plt.plot(A2, μ_ex_dimer)\n",
    "plt.xlabel('$A_{02}$')\n",
    "plt.ylabel(r'$\\beta \\mu_\\text{dimer}^\\text{ex}$')\n",
    "plt.title(r'$A_{01} = 25$')\n",
    "plt.show()\n"
   ]
  },
  {
   "cell_type": "markdown",
   "metadata": {},
   "source": [
    "The partition coefficient is obtained from the ratio of excess chemical potentials in two solvents $\\alpha$ and $\\beta$:\n",
    "$$\n",
    "\\ln{K_{ij}^{\\alpha\\beta}}\n",
    "\\equiv\n",
    "\\ln{\\left( \\frac{c_{ij}^\\alpha}{c_{ij}^\\beta} \\right)}\n",
    "=\n",
    "\\beta \\mu_{ij,\\alpha}^\\text{ex} - \\beta \\mu_{ij,\\beta}^\\text{ex}\\,.\n",
    "$$"
   ]
  },
  {
   "cell_type": "code",
   "execution_count": 11,
   "metadata": {},
   "outputs": [
    {
     "data": {
      "image/png": "[encoded data removed]",
      "text/plain": [
       "<Figure size 729x453.6 with 1 Axes>"
      ]
     },
     "metadata": {},
     "output_type": "display_data"
    }
   ],
   "source": [
    "def monomer_partition_coefficient(Aα1, Aβ1):\n",
    "    \"\"\"Partition coefficient of a monomer for two reference solvents.\n",
    "    Args:\n",
    "        Aα1: interaction coefficient between solute and first solvent.\n",
    "        Aβ1: interaction coefficient between solute and second solvent.\n",
    "    Returns:\n",
    "        Difference between excess chemical potentials in units of kT.\n",
    "    \"\"\"\n",
    "    φα1, φβ1 = [dpd_potential(A, r) for A in [Aα1, Aβ1]]\n",
    "\n",
    "    soln = solute.solve(φα1, monitor=verbose)\n",
    "    hα1, cα1, hα1q = soln.hr, soln.cr, soln.hq\n",
    "    μ_ex_α = excess_chemical_potential(hα1, cα1, r)\n",
    "\n",
    "    soln = solute.solve(φβ1, monitor=verbose)\n",
    "    hβ1, cβ1, hβ1q = soln.hr, soln.cr, soln.hq\n",
    "    μ_ex_β = excess_chemical_potential(hβ1, cβ1, r)\n",
    "\n",
    "    return μ_ex_β - μ_ex_α\n",
    "\n",
    "def dimer_partition_coefficient(A1, A2, l0=0.5, k=150):\n",
    "    \"\"\"Partition coefficient of a dimer for two reference solvents.\n",
    "    Args:\n",
    "        A1: interaction coefficients of first bead with each solvent.\n",
    "        A2: interaction coefficients of second bead with each solvent.\n",
    "        l0: equilbrium length of dimer in a vacuum.\n",
    "        k: interaction strength between the two beads (a spring constant).\n",
    "    Returns:\n",
    "        Difference between excess chemical potentials in units of kT.\n",
    "    \"\"\"\n",
    "\n",
    "    K1 = monomer_partition_coefficient(*A1)\n",
    "    K2 = monomer_partition_coefficient(*A2)\n",
    "\n",
    "    Aα1, Aβ1 = A1\n",
    "    Aα2, Aβ2 = A2\n",
    "    μ_ex_α = dimer_excess_chemical_potential(Aα1, Aα2, l0, k)\n",
    "    μ_ex_β = dimer_excess_chemical_potential(Aβ1, Aβ2, l0, k)\n",
    "\n",
    "    return K1 + K2 + μ_ex_α - μ_ex_β\n",
    "\n",
    "A1 = [25, 25]\n",
    "A2 = [100, 25]\n",
    "K1 = monomer_partition_coefficient(*A1)\n",
    "K2 = monomer_partition_coefficient(*A2)\n",
    "\n",
    "l0 = np.linspace(0, 3, 100)\n",
    "logP = [dimer_partition_coefficient(A1, A2, ll) for ll in l0]\n",
    "\n",
    "plt.plot(l0, logP)\n",
    "plt.axhline(y=(K1+K2), ls='--', lw=0.5)\n",
    "plt.xlabel('$l_0$')\n",
    "plt.ylabel(r'$\\ln{K_{12}}$')\n",
    "plt.title(r'$A_{\\alpha 1} = 25, A_{\\alpha 2} = 100, A_{\\beta 1} = A_{\\beta 2} = 25$')\n",
    "plt.show()"
   ]
  },
  {
   "cell_type": "code",
   "execution_count": null,
   "metadata": {},
   "outputs": [],
   "source": []
  }
 ],
 "metadata": {
  "kernelspec": {
   "display_name": "Python 3 (ipykernel)",
   "language": "python",
   "name": "python3"
  },
  "language_info": {
   "codemirror_mode": {
    "name": "ipython",
    "version": 3
   },
   "file_extension": ".py",
   "mimetype": "text/x-python",
   "name": "python",
   "nbconvert_exporter": "python",
   "pygments_lexer": "ipython3",
   "version": "3.10.12"
  }
 },
 "nbformat": 4,
 "nbformat_minor": 2
}
