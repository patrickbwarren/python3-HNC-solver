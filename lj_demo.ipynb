{
 "cells": [
  {
   "cell_type": "code",
   "execution_count": null,
   "id": "618177fe",
   "metadata": {},
   "outputs": [],
   "source": [
    "import sys\n",
    "import numpy as np, matplotlib.pyplot as plt\n",
    "from tqdm import tqdm\n",
    "from IPython.display import display, Image\n",
    "\n",
    "from pyhnc import *"
   ]
  },
  {
   "cell_type": "code",
   "execution_count": null,
   "id": "46afbf90",
   "metadata": {},
   "outputs": [],
   "source": [
    "N = int(1e5)\n",
    "Δr = 0.02\n",
    "grid = Grid(N, Δr)\n",
    "r, q = grid.r, grid.q"
   ]
  },
  {
   "cell_type": "code",
   "execution_count": null,
   "id": "e0b4e0b0",
   "metadata": {},
   "outputs": [],
   "source": [
    "T = 1.35\n",
    "rho = 0.8\n",
    "\n",
    "alpha = 0.5\n",
    "niters = 1000\n",
    "tol = 1e-12\n",
    "\n",
    "hnc = HypernettedChainSolver(grid, alpha=alpha, niters=niters, tol=tol)\n",
    "hnc.solve(potentials.LennardJones(), rho, T, monitor=True)\n",
    "print(f'HNC pressure: {hnc.pressure/rho}\\n')\n",
    "\n",
    "py = PercusYevickSolver(grid)\n",
    "py.solve(potentials.LennardJones(), rho, T, monitor=True)\n",
    "print(f' PY pressure: {py.pressure/rho}')\n",
    "\n",
    "plt.plot(r, py.g, label='PY')\n",
    "plt.plot(r, hnc.g, '--', label='HNC')\n",
    "plt.legend(loc='best')\n",
    "plt.xlabel(r'$r$')\n",
    "plt.ylabel(r'$g(r)$')\n",
    "plt.xlim([0, 5])\n",
    "plt.show()"
   ]
  },
  {
   "cell_type": "markdown",
   "id": "2cf74ccd",
   "metadata": {},
   "source": [
    "## 2. Supercritical isotherms"
   ]
  },
  {
   "cell_type": "markdown",
   "id": "16a3fc68",
   "metadata": {},
   "source": [
    "Hansen & McDonald (2013) obtain the following equation of state for Lennard-Jones (presumably shifted and cut, but not 100%) along an isotherm above the critical temperature:"
   ]
  },
  {
   "cell_type": "code",
   "execution_count": null,
   "id": "33bb0d4a",
   "metadata": {},
   "outputs": [],
   "source": [
    "Image('data/LJ_MSA_hansen2013.png')"
   ]
  },
  {
   "cell_type": "code",
   "execution_count": null,
   "id": "78757583",
   "metadata": {},
   "outputs": [],
   "source": [
    "density = 0.7 * np.linspace(0, 1, 101)**0.5\n",
    "\n",
    "p_py = np.ones_like(density)\n",
    "p_hnc = np.ones_like(density)\n",
    "\n",
    "v = potentials.LennardJones()\n",
    "T = 1.35\n",
    "\n",
    "monitor = False\n",
    "# monitor = True\n",
    "\n",
    "hnc = HypernettedChainSolver(grid)\n",
    "py = PercusYevickSolver(grid)\n",
    "\n",
    "for i, rho in enumerate(tqdm(density[1:])):\n",
    "    try: p_hnc[i+1] = hnc.solve(v, rho, T, monitor=monitor).pressure / rho\n",
    "    except: p_hnc[i+1] = np.nan\n",
    "    try: p_py[i+1] = py.solve(v, rho, T, monitor=monitor).pressure / rho\n",
    "    except: p_py[i+1] = np.nan\n",
    "\n",
    "plt.figure(figsize=(3.375, 3))\n",
    "\n",
    "plt.plot(density, p_py, label='PY(v)')\n",
    "plt.plot(density, p_hnc, '--', label='HNC(v)')\n",
    "plt.axhline(y=1, ls='dashed')\n",
    "\n",
    "plt.legend(loc='best')\n",
    "plt.xlabel(r'$\\rho^*$')\n",
    "plt.ylabel(r'$\\beta p / \\rho$')\n",
    "plt.xlim([0, 0.8])\n",
    "plt.ylim([0, 3])\n",
    "\n",
    "plt.show()"
   ]
  },
  {
   "cell_type": "markdown",
   "id": "3294546a",
   "metadata": {},
   "source": [
    "# 3. Isotherms at coexistence"
   ]
  },
  {
   "cell_type": "markdown",
   "id": "a72cdc12",
   "metadata": {},
   "source": [
    "More challenging is below the critical temperature because the solutions become numerically unstable (due to physical inconsistencies) in the coexistence regime. Let's have a look at what we get.\n",
    "\n",
    "First let's fix some parameters:"
   ]
  },
  {
   "cell_type": "code",
   "execution_count": null,
   "id": "717bc151",
   "metadata": {},
   "outputs": [],
   "source": [
    "v = potentials.LennardJones()\n",
    "T = 0.8\n",
    "monitor = False\n",
    "# monitor = True"
   ]
  },
  {
   "cell_type": "markdown",
   "id": "e0eefcf3",
   "metadata": {},
   "source": [
    "Below is the phase diagram from [wikipedia](https://en.wikipedia.org/wiki/Lennard-Jones_potential#/media/File:Vapor_liquid_equilibrium_properties_of_LJ_and_LJTS_potential.png).\n",
    "* Blue: LJ shift/cut\n",
    "* Black: full LJ.\n",
    "\n",
    "Reading the blue lines (I used [this great extracting tool](https://automeris.io)), we expect to find coexistence densities along the isotherm $T^* = 0.8$ to be $\\rho_-^* \\simeq 0.019$ and $\\rho_+^* \\simeq 0.729$."
   ]
  },
  {
   "cell_type": "code",
   "execution_count": null,
   "id": "e500a0ec",
   "metadata": {},
   "outputs": [],
   "source": [
    "rho_coexist = [0.019, 0.729]\n",
    "Image('data/LJcut_phase_diagram_wikipedia.png')"
   ]
  },
  {
   "cell_type": "markdown",
   "id": "b71515b0",
   "metadata": {},
   "source": [
    "Solving on the gas side of the boundary is straightforward:"
   ]
  },
  {
   "cell_type": "code",
   "execution_count": null,
   "id": "3f715ca6",
   "metadata": {},
   "outputs": [],
   "source": [
    "density_gas = 0.1 * np.linspace(0, 1, 251)\n",
    "\n",
    "p_py_gas = np.ones_like(density_gas)\n",
    "py = PercusYevickSolver(grid)\n",
    "\n",
    "for i, rho in enumerate(tqdm(density_gas[1:])):\n",
    "    try:\n",
    "        p_py_gas[i+1] = py.solve(v, rho, T, monitor=monitor).pressure / rho\n",
    "        if not py.converged: raise RuntimeError\n",
    "    except:\n",
    "        p_py_gas[i+1:] = np.nan\n",
    "        print(rf'aborting - no solution above ρ={rho:.4g}')\n",
    "        break\n",
    "\n",
    "p_hnc_gas = np.ones_like(density_gas)\n",
    "hnc = HypernettedChainSolver(grid)\n",
    "\n",
    "for i, rho in enumerate(tqdm(density_gas[1:])):\n",
    "    try:\n",
    "        p_hnc_gas[i+1] = hnc.solve(v, rho, T, monitor=monitor).pressure / rho\n",
    "        if not hnc.converged: raise RuntimeError\n",
    "    except:\n",
    "        p_hnc_gas[i+1:] = np.nan\n",
    "        print(rf'aborting - no solution above ρ={rho:.4g}')\n",
    "        break\n",
    "\n",
    "print('done')"
   ]
  },
  {
   "cell_type": "code",
   "execution_count": null,
   "id": "7f198dac",
   "metadata": {},
   "outputs": [],
   "source": [
    "plt.figure(figsize=(3.375, 3))\n",
    "\n",
    "plt.plot(density_gas, p_py_gas * density_gas, '-', mfc='None', label='PY(v)')\n",
    "plt.plot(density_gas, p_hnc_gas * density_gas, '--', mfc='None', label='HNC(v)')\n",
    "\n",
    "plt.legend(loc='best')\n",
    "plt.xlabel(r'$\\rho^*$')\n",
    "plt.ylabel(r'$\\beta p^*$')\n",
    "plt.xlim([0, 0.1])\n",
    "plt.ylim([0, 0.05])\n",
    "\n",
    "plt.axvline(x=rho_coexist[0], ls='dotted')\n",
    "\n",
    "plt.show()"
   ]
  },
  {
   "cell_type": "code",
   "execution_count": null,
   "id": "2c0034fa",
   "metadata": {},
   "outputs": [],
   "source": [
    "rho0 = 0.8\n",
    "density_liquid = np.linspace(rho0, 0.5, 1001)\n",
    "\n",
    "p_hnc_liquid = np.empty_like(density_liquid)\n",
    "p_py_liquid = np.empty_like(density_liquid)\n",
    "\n",
    "hnc = HypernettedChainSolver(grid)\n",
    "py = PercusYevickSolver(grid)\n",
    "\n",
    "# We need a good initial guess to converge, so gradually move to coexistence\n",
    "# regime in a path from low densities in the supercritical regime where\n",
    "# solutions are more stable.\n",
    "T0 = 1.35\n",
    "nsteps = 5\n",
    "for rho in np.linspace(0, rho0, nsteps)[1:]:\n",
    "    py.solve(v, rho0, T0, monitor=monitor)\n",
    "    hnc.solve(v, rho0, T0, monitor=monitor)\n",
    "    assert py.converged\n",
    "    assert hnc.converged\n",
    "\n",
    "for T_tmp in np.linspace(T0, T, nsteps):\n",
    "    py.solve(v, rho0, T_tmp, monitor=monitor)\n",
    "    hnc.solve(v, rho0, T_tmp, monitor=monitor)\n",
    "    assert py.converged\n",
    "    assert hnc.converged\n",
    "\n",
    "print('PY closure:')\n",
    "for i, rho in enumerate(tqdm(density_liquid)):\n",
    "    try:\n",
    "        p_py_liquid[i] = py.solve(v, rho, T, monitor=monitor).pressure / rho\n",
    "        if not py.converged: raise RuntimeError\n",
    "    except:\n",
    "        p_py_liquid[i:] = np.nan\n",
    "        print(rf'aborting - no solution below ρ={rho:.4g}')\n",
    "        break\n",
    "\n",
    "print('HNC closure:')\n",
    "for i, rho in enumerate(tqdm(density_liquid)):\n",
    "    try:\n",
    "        p_hnc_liquid[i] = hnc.solve(v, rho, T, monitor=monitor).pressure / rho\n",
    "        if not hnc.converged: raise RuntimeError\n",
    "    except:\n",
    "        p_hnc_liquid[i:] = np.nan\n",
    "        print(rf'aborting - no solution below ρ={rho:.4g}')\n",
    "        break\n",
    "\n",
    "print('done')"
   ]
  },
  {
   "cell_type": "markdown",
   "id": "a4eef8bc",
   "metadata": {},
   "source": [
    "As can be seen, the solution fails as we approach the binodal densities. It would be hard to extract the binodal/spinodal points without improving the numerics approaching the phase boundary. Hopefully the proximity we can currently achieve will be good enough for subsequent sections."
   ]
  },
  {
   "cell_type": "code",
   "execution_count": null,
   "id": "a7f033ca",
   "metadata": {},
   "outputs": [],
   "source": [
    "plt.figure(figsize=(3.375, 3))\n",
    "\n",
    "pl, = plt.plot(density_liquid, p_py_liquid * density_liquid, '-', label='PY(v)')\n",
    "plt.plot(density_gas, p_py_gas * density_gas, '-', c=pl.get_color())\n",
    "pl, = plt.plot(density_liquid, p_hnc_liquid * density_liquid, '--', label='HNC(v)')\n",
    "plt.plot(density_gas, p_hnc_gas * density_gas, '--', c=pl.get_color())\n",
    "\n",
    "plt.text(0.5, 0.95, rf'$T^*={T:.1f}$',\n",
    "         transform=plt.gca().transAxes, ha='center', va='top')\n",
    "\n",
    "plt.legend(loc='best')\n",
    "plt.xlabel(r'$\\rho^*$')\n",
    "plt.ylabel(r'$\\beta p^*$')\n",
    "plt.xlim([0, rho0])\n",
    "plt.ylim([-0.1, 0.25])\n",
    "\n",
    "plt.axvline(x=rho_coexist[0], ls='dotted')\n",
    "plt.axvline(x=rho_coexist[1], ls='dotted')\n",
    "\n",
    "plt.show()"
   ]
  }
 ],
 "metadata": {
  "kernelspec": {
   "display_name": "Python 3",
   "language": "python",
   "name": "python3"
  },
  "language_info": {
   "codemirror_mode": {
    "name": "ipython",
    "version": 3
   },
   "file_extension": ".py",
   "mimetype": "text/x-python",
   "name": "python",
   "nbconvert_exporter": "python",
   "pygments_lexer": "ipython3",
   "version": "3.13.3"
  }
 },
 "nbformat": 4,
 "nbformat_minor": 5
}
