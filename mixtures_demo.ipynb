{
 "cells": [
  {
   "cell_type": "code",
   "execution_count": null,
   "id": "894cecea",
   "metadata": {},
   "outputs": [],
   "source": [
    "import numpy as np, matplotlib.pyplot as plt\n",
    "from pyhnc import *"
   ]
  },
  {
   "cell_type": "code",
   "execution_count": null,
   "id": "58ced6cb",
   "metadata": {},
   "outputs": [],
   "source": [
    "N = 2**13\n",
    "Δr = 0.02\n",
    "grid = Grid(N, Δr)\n",
    "r, q = grid.r, grid.q\n",
    "\n",
    "verbose = True\n",
    "\n",
    "alpha = 0.5\n",
    "niters = 1000\n",
    "tol = 1e-12\n",
    "solvent = Solver(grid, alpha=alpha, niters=niters, tol=tol)"
   ]
  },
  {
   "cell_type": "code",
   "execution_count": null,
   "id": "976d1971",
   "metadata": {},
   "outputs": [],
   "source": [
    "A0 = 25\n",
    "φ = potentials.DPD(A0)\n",
    "ρ = 3.0\n",
    "\n",
    "sol1 = solvent.solve(φ, ρ, monitor=verbose)\n",
    "\n",
    "for m in [2, 3]:\n",
    "    A = A0 * np.ones((m, m))\n",
    "    φ = potentials.DPD(A)\n",
    "    xi = np.ones(m) / m\n",
    "    ρi = xi * ρ\n",
    "\n",
    "    sol2 = solvent.solve(φ, ρi, monitor=verbose)\n",
    "\n",
    "    for idx in np.ndindex(sol2.h.shape[:-1]):\n",
    "        assert np.all(np.isclose(sol2.h[idx], sol1.h))"
   ]
  },
  {
   "cell_type": "code",
   "execution_count": null,
   "id": "f28af0cd",
   "metadata": {},
   "outputs": [],
   "source": []
  }
 ],
 "metadata": {
  "kernelspec": {
   "display_name": "Python 3",
   "language": "python",
   "name": "python3"
  },
  "language_info": {
   "codemirror_mode": {
    "name": "ipython",
    "version": 3
   },
   "file_extension": ".py",
   "mimetype": "text/x-python",
   "name": "python",
   "nbconvert_exporter": "python",
   "pygments_lexer": "ipython3",
   "version": "3.13.3"
  }
 },
 "nbformat": 4,
 "nbformat_minor": 5
}
