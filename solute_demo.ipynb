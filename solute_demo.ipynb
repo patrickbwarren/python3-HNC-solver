{
 "cells": [
  {
   "cell_type": "markdown",
   "metadata": {},
   "source": [
    "This program is part of pyHNC, copyright (c) 2023 Patrick B Warren (STFC).\n",
    "Additional modifications copyright (c) 2025 Joshua F Robinson (STFC).\n",
    "Email: patrick.warren{at}stfc.ac.uk.\n",
    "\n",
    "This program is free software: you can redistribute it and/or modify\n",
    "it under the terms of the GNU General Public License as published by\n",
    "the Free Software Foundation, either version 3 of the License, or\n",
    "(at your option) any later version.\n",
    "\n",
    "This program is distributed in the hope that it will be useful, but\n",
    "WITHOUT ANY WARRANTY; without even the implied warranty of\n",
    "MERCHANTABILITY or FITNESS FOR A PARTICULAR PURPOSE.  See the GNU\n",
    "General Public License for more details.\n",
    "\n",
    "You should have received a copy of the GNU General Public License\n",
    "along with this program.  If not, see\n",
    "<http://www.gnu.org/licenses/>.\n",
    "\n",
    "Demonstrate the capabilities of the HNC package for solving DPD\n",
    "potentials, comparing with SunlightHNC if requested, and plotting\n",
    "the pair distribution function and the structure factor too.  For\n",
    "details here see also the SunlightHNC documentation.\n",
    "\n",
    "For standard DPD at $A = 25$ and $ρ = 3$, we have the following table\n",
    "\n",
    "```\n",
    "          ∆t = 0.02   ∆t = 0.01   Monte-Carlo  HNC   deviation\n",
    "pressure  23.73±0.02  23.69±0.02  23.65±0.02   23.564  (0.4%)\n",
    "energy    13.66±0.02  13.64±0.02  13.63±0.02   13.762  (1.0%)\n",
    "mu^ex     12.14±0.02  12.16±0.02  12.25±0.10   12.170  (0.7%)\n",
    "```\n",
    "\n",
    "\n",
    "The first two columns are from dynamic simulations.  The excess\n",
    "chemical potential (final row) is measured by Widom insertion.  The\n",
    "HNC results from the present code are in agreement with those from\n",
    "SunlightHNC to at least the indicated number of decimals.  The\n",
    "deviation is between HNC and simulation results.\n",
    "\n",
    "Data is from a forthcoming publication on osmotic pressure in DPD."
   ]
  },
  {
   "cell_type": "markdown",
   "metadata": {},
   "source": [
    "## Standard modules"
   ]
  },
  {
   "cell_type": "code",
   "execution_count": 1,
   "metadata": {},
   "outputs": [],
   "source": [
    "import os\n",
    "import pyHNC\n",
    "import argparse\n",
    "import numpy as np, matplotlib.pyplot as plt\n",
    "from numpy import pi as π\n",
    "from scipy.integrate import simpson\n",
    "from pyHNC import Grid, PicardHNC, SolutePicardHNC, truncate_to_zero"
   ]
  },
  {
   "cell_type": "markdown",
   "metadata": {},
   "source": [
    "## Global parameters"
   ]
  },
  {
   "cell_type": "code",
   "execution_count": 2,
   "metadata": {},
   "outputs": [
    {
     "name": "stdout",
     "output_type": "stream",
     "text": [
      "Grid: ng = 8192 = 2^13, Δr = 0.02, Δq = 0.0192, |FFTW arrays| = 8191\n",
      "HNC: α = 0.2, tol = 1.0e-12, npicard = 1000\n"
     ]
    }
   ],
   "source": [
    "N = 2**13\n",
    "Δr = 0.02\n",
    "grid = Grid(N, Δr)\n",
    "r, q = grid.r, grid.q\n",
    "\n",
    "verbose = False\n",
    "\n",
    "alpha = 0.2\n",
    "npicard = 1000\n",
    "tol = 1e-12\n",
    "solvent = PicardHNC(grid, alpha=alpha, npicard=npicard, tol=tol)\n",
    "\n",
    "print(grid.details + '\\n' + solvent.details)"
   ]
  },
  {
   "cell_type": "markdown",
   "metadata": {},
   "source": [
    "# 1. Solve for pure solvent"
   ]
  },
  {
   "cell_type": "markdown",
   "metadata": {},
   "source": [
    "Define interaction parameters:"
   ]
  },
  {
   "cell_type": "code",
   "execution_count": 3,
   "metadata": {},
   "outputs": [],
   "source": [
    "def dpd_potential(A, r):\n",
    "    \"\"\"Define the DPD potential.\"\"\"\n",
    "    return truncate_to_zero(A/2*(1-r)**2, r, 1)\n",
    "\n",
    "def dpd_force(A, r):\n",
    "    \"\"\"Define dereivative of the DPD potential.\"\"\"\n",
    "    return truncate_to_zero(A*(1-r), r, 1) # the force f = -dφ/dr\n",
    "\n",
    "# Parameters for solvent-solvent interactions\n",
    "A00 = 25\n",
    "ρ0 = 3.0\n",
    "φ0, f0 = dpd_potential(A00, r), dpd_force(A00, r)"
   ]
  },
  {
   "cell_type": "markdown",
   "metadata": {},
   "source": [
    "Solve for $h(r)$ via Picard iteration with HNC closure:"
   ]
  },
  {
   "cell_type": "code",
   "execution_count": 4,
   "metadata": {},
   "outputs": [
    {
     "data": {
      "image/png": "[encoded data removed]",
      "text/plain": [
       "<Figure size 432x288 with 1 Axes>"
      ]
     },
     "metadata": {
      "needs_background": "light"
     },
     "output_type": "display_data"
    }
   ],
   "source": [
    "soln = solvent.solve(φ0, ρ0, monitor=verbose) # solve for the DPD potential\n",
    "h00, c00, h00q = soln.hr, soln.cr, soln.hq # extract for use in a moment\n",
    "\n",
    "plt.plot(r, 1+h00)\n",
    "plt.xlabel('$r$')\n",
    "plt.ylabel('$g(r)$')\n",
    "plt.xlim([0, 3])\n",
    "plt.show()"
   ]
  },
  {
   "cell_type": "code",
   "execution_count": 5,
   "metadata": {},
   "outputs": [
    {
     "data": {
      "image/png": "[encoded data removed]",
      "text/plain": [
       "<Figure size 432x288 with 1 Axes>"
      ]
     },
     "metadata": {
      "needs_background": "light"
     },
     "output_type": "display_data"
    }
   ],
   "source": [
    "S00q = 1 + ρ0*h00q # solvent structure factor\n",
    "\n",
    "plt.plot(q, S00q)\n",
    "plt.xlabel('$q$')\n",
    "plt.ylabel('$S(q)$')\n",
    "plt.xlim([0, 25])\n",
    "plt.show()"
   ]
  },
  {
   "cell_type": "markdown",
   "metadata": {},
   "source": [
    "Calculate thermodynamic quantities using the total correlation function $h(r)$.\n",
    "\n",
    "For the integrals here, see Eqs. (2.5.20) and (2.5.22) in Hansen & McDonald, \"Theory of Simple Liquids\" (3rd edition): for the (excess) energy density,\n",
    "$$\n",
    "e \\equiv \\frac{U^\\mathrm{ex}}{V} = 2\\pi\\rho^2 \\int_0^\\infty \\mathrm{d}r \\, r^2 \\phi(r) g(r)\n",
    "$$\n",
    "and virial pressure,\n",
    "$$\n",
    "p = \\rho + \\frac{2\\pi\\rho^2}{3} \\int_0^\\infty \\mathrm{d}r \\, r^3 f(r) g(r)\n",
    "$$\n",
    "where $f(r) = −\\mathrm{d}\\phi/\\mathrm{d}r$ is the force. Note that we have assumed $\\beta = 1$ in our expressions, so energy is given in units of $k_\\mathrm{B} T$. An integration by parts shows that the mean-field contributions, being these with g(r) = 1, are the same.\n",
    "\n",
    "Here specifically the mean-field contributions are\n",
    "$$\n",
    "\\frac{2\\pi \\rho^3}{3} \\int_0^\\infty \\mathrm{d}r \\, r^3 f(r) = A \\int_0^1 \\mathrm{d}r \\, r^3 (1−r) = \\frac{\\pi A \\rho^3}{30} \\,.\n",
    "$$"
   ]
  },
  {
   "cell_type": "code",
   "execution_count": 6,
   "metadata": {},
   "outputs": [
    {
     "name": "stdout",
     "output_type": "stream",
     "text": [
      "μ=13.2689 μ_ex=12.1703 μ_id=1.0986\n"
     ]
    }
   ],
   "source": [
    "def excess_chemical_potential(h, c, r):\n",
    "    return 4*π*ρ0 * simpson(r**2*(h*(h-c)/2 - c), r)\n",
    "\n",
    "μ_ex = excess_chemical_potential(h00, c00, r)\n",
    "μ = np.log(ρ0) + μ_ex\n",
    "print(f'μ={μ:.4f} μ_ex={μ_ex:.4f} μ_id={μ-μ_ex:.4f}')"
   ]
  },
  {
   "cell_type": "markdown",
   "metadata": {},
   "source": [
    "# 2. Introduce solute"
   ]
  },
  {
   "cell_type": "markdown",
   "metadata": {},
   "source": [
    "We need to use a different solver that takes into account that this is now a binary mixture where the second species (the solute) is infinitely dilute. We need to pass the previously obtained static properties of the solvent."
   ]
  },
  {
   "cell_type": "code",
   "execution_count": 7,
   "metadata": {},
   "outputs": [
    {
     "name": "stdout",
     "output_type": "stream",
     "text": [
      "HNC: α = 0.2, tol = 1.0e-12, npicard = 1000\n"
     ]
    }
   ],
   "source": [
    "solute = SolutePicardHNC(ρ0*h00q, grid, alpha=alpha, npicard=npicard, tol=tol)\n",
    "print(solute.details)"
   ]
  },
  {
   "cell_type": "markdown",
   "metadata": {},
   "source": [
    "Show how the distribution function $g_{01}$ between solvent (species 0) and solute (species 1) varies with DPD interaction parameter $A_{01}$. We can also infer $g_{11}$ directly from $g_{01}$ and thereby calculate the potential of mean force between two solute particles:\n",
    "$$\n",
    "- \\ln{g_{11}(r)} = \\beta \\phi_{11}(r) + \\beta \\Delta \\Omega_{11}(r)\\,.\n",
    "$$\n",
    "Here $\\beta \\Delta \\Omega_{11}$ is the depletion potential between solutes."
   ]
  },
  {
   "cell_type": "code",
   "execution_count": 8,
   "metadata": {},
   "outputs": [
    {
     "name": "stderr",
     "output_type": "stream",
     "text": [
      "/tmp/ipykernel_7091/1257866893.py:41: UserWarning: Matplotlib is currently using module://matplotlib_inline.backend_inline, which is a non-GUI backend, so cannot show the figure.\n",
      "  fig1.show()\n",
      "/tmp/ipykernel_7091/1257866893.py:42: UserWarning: Matplotlib is currently using module://matplotlib_inline.backend_inline, which is a non-GUI backend, so cannot show the figure.\n",
      "  fig2.show()\n"
     ]
    },
    {
     "data": {
      "image/png": "[encoded data removed]",
      "text/plain": [
       "<Figure size 243x216 with 1 Axes>"
      ]
     },
     "metadata": {
      "needs_background": "light"
     },
     "output_type": "display_data"
    },
    {
     "data": {
      "image/png": "[encoded data removed]",
      "text/plain": [
       "<Figure size 243x216 with 1 Axes>"
      ]
     },
     "metadata": {
      "needs_background": "light"
     },
     "output_type": "display_data"
    }
   ],
   "source": [
    "fig1 = plt.figure(figsize=(3.375, 3))\n",
    "ax1 = plt.gca()\n",
    "fig2 = plt.figure(figsize=(3.375, 3))\n",
    "ax2 = plt.gca()\n",
    "\n",
    "ax1.plot(r, 1+h00, label=(r'$g_{00}(r; A_{00}=' + f'{A00})$'))\n",
    "\n",
    "# for A01 in np.arange(A00, 151, 25):\n",
    "for A01 in np.flipud(np.arange(5, 26, 5)):\n",
    "    φ01 = dpd_potential(A01, r)\n",
    "    soln = solute.solve(φ01, monitor=verbose)\n",
    "    h01, c01, h01q = soln.hr, soln.cr, soln.hq\n",
    "    ax1.plot(r, 1+h01, '--', label=(r'$g_{01}(r; A_{01}=' + f'{A01})$'))\n",
    "\n",
    "    c01q = grid.fourier_bessel_forward(c01)\n",
    "    depletion11 = - ρ0 * grid.fourier_bessel_backward(c01q * h01q)\n",
    "    pl, = ax2.plot(r, depletion11, label=(r'$A_{01}=' + f'{A01}$'))\n",
    "\n",
    "    # Equivalent calculation should be on top of other lines.\n",
    "    # psi1q = h01q / (1 + ρ0*h00q)**0.5\n",
    "    # depletion11 = - ρ0 * grid.fourier_bessel_backward(psi1q**2)\n",
    "    # ax2.plot(r, depletion11, '--', c=pl.get_color())\n",
    "\n",
    "    # Work out the expected value at g(r=0) if the theory were self-consistent.\n",
    "    φ01_eff = dpd_potential(2*A01, r)\n",
    "    soln_eff = solute.solve(φ01_eff, monitor=verbose)\n",
    "    h01_eff, c01_eff, h01q_eff = soln_eff.hr, soln_eff.cr, soln_eff.hq\n",
    "    μ_ex_monomer = excess_chemical_potential(h01, c01, r)\n",
    "    μ_ex_eff = excess_chemical_potential(h01_eff, c01_eff, r)\n",
    "    dμ = μ_ex_eff - 2*μ_ex_monomer\n",
    "    ax2.axhline(y=dμ, ls='--', c=pl.get_color())\n",
    "\n",
    "for ax in [ax1, ax2]:\n",
    "    ax.legend(loc='best', fontsize=8)\n",
    "    ax.set_xlabel('$r$')\n",
    "    ax.set_xlim([0, 3])\n",
    "\n",
    "ax1.set_ylabel('$g(r)$')\n",
    "ax2.set_ylabel(r'$\\beta \\Delta \\Omega_{11}(r)$')\n",
    "\n",
    "fig1.show()\n",
    "fig2.show()"
   ]
  },
  {
   "cell_type": "markdown",
   "metadata": {},
   "source": [
    "Calculate excess chemical potentials for solutes with varying solvent-solute interaction parameters $A_{01}$:"
   ]
  },
  {
   "cell_type": "code",
   "execution_count": 9,
   "metadata": {},
   "outputs": [],
   "source": [
    "A01 = np.flipud(np.arange(0, 151, 1))\n",
    "μ_ex = np.empty(len(A01))\n",
    "\n",
    "for i, A in enumerate(A01[:-1]):\n",
    "    φ01 = dpd_potential(A, r)\n",
    "    soln = solute.solve(φ01, monitor=verbose)\n",
    "    h01, c01, h01q = soln.hr, soln.cr, soln.hq\n",
    "    μ_ex[i] = excess_chemical_potential(h01, c01, r)\n",
    "\n",
    "μ_ex[-1] = 0."
   ]
  },
  {
   "cell_type": "markdown",
   "metadata": {},
   "source": [
    "Plot the previously calculated chemical potentials:\n",
    "digitised from Fig 1 of Hendrikse *et al.*, PCCP **27**, 1554-66 (2025).\n"
   ]
  },
  {
   "cell_type": "code",
   "execution_count": 10,
   "metadata": {},
   "outputs": [
    {
     "data": {
      "image/png": "[encoded data removed]",
      "text/plain": [
       "<Figure size 243x216 with 1 Axes>"
      ]
     },
     "metadata": {
      "needs_background": "light"
     },
     "output_type": "display_data"
    }
   ],
   "source": [
    "plt.figure(figsize=(3.375, 3))\n",
    "pl, = plt.plot(A01/A00, μ_ex, '-', label='HNC')\n",
    "\n",
    "A01_ref, μ_ex_ref = np.genfromtxt('mu_dpd_hendrikse2025.csv', delimiter=',', comments='#').T\n",
    "plt.plot(A01_ref/A00, μ_ex_ref, 'o', c=pl.get_color(),\n",
    "         mfc='None', label='Hendrikse (2025)', zorder=10)\n",
    "\n",
    "μ_rpa = ρ0 * np.pi * A01 / 15\n",
    "plt.plot(A01/A00, μ_rpa, '--', label='RPA')\n",
    "\n",
    "plt.xlabel(r'$A_{01} / A_{00}$')\n",
    "plt.ylabel(r'$\\mu_1^\\mathrm{ex}$')\n",
    "plt.legend(loc='best')\n",
    "plt.xlim([0, np.max(A01)/A00])\n",
    "plt.ylim([0, 30])\n",
    "\n",
    "plt.show()"
   ]
  },
  {
   "cell_type": "markdown",
   "metadata": {},
   "source": [
    "# 3. Partition coefficients of dimers"
   ]
  },
  {
   "cell_type": "markdown",
   "metadata": {},
   "source": [
    "Taking the depletion potential from the previous section we can integrate over all configurations of a dimer to obtain its chemical potential:"
   ]
  },
  {
   "cell_type": "code",
   "execution_count": 15,
   "metadata": {},
   "outputs": [
    {
     "data": {
      "image/png": "[encoded data removed]",
      "text/plain": [
       "<Figure size 432x288 with 1 Axes>"
      ]
     },
     "metadata": {
      "needs_background": "light"
     },
     "output_type": "display_data"
    }
   ],
   "source": [
    "def bond_potential(r, l0=0.5, k=150):\n",
    "    \"\"\"Spring force between bonded atoms in a molecule.\"\"\"\n",
    "    return k * (r - l0)**2\n",
    "\n",
    "from scipy.integrate import simpson\n",
    "\n",
    "def dimer_excess_chemical_potential(A1, A2, l0=0.5, k=150):\n",
    "    \"\"\"Excess chemical potential of a non-rigid dimer is found by integrating\n",
    "    the potential of mean force over all configurations of the two beads.\n",
    "\n",
    "    Args:\n",
    "        A1: interaction strength of bead 1 with the solvent.\n",
    "        A2: interaction strength of bead 2 with the solvent.\n",
    "        l0: equilbrium length of dimer in a vacuum.\n",
    "        k: interaction strength between the two beads (a spring constant).\n",
    "    Returns:\n",
    "        Excess chemical potential in units of kT.\n",
    "    \"\"\"\n",
    "    φ01, φ02 = [dpd_potential(A, r) for A in [A1, A2]]\n",
    "    soln = solute.solve(φ01, monitor=verbose)\n",
    "    h01, c01, h01q = soln.hr, soln.cr, soln.hq\n",
    "    soln = solute.solve(φ02, monitor=verbose)\n",
    "    h02, c02, h02q = soln.hr, soln.cr, soln.hq\n",
    "\n",
    "    # Depletion contribution to potential of mean force\n",
    "    psi1q, psi2q = [hq / (1 + ρ0*h00q)**0.5 for hq in [h01q, h02q]]\n",
    "    depletion12 = - ρ0 * grid.fourier_bessel_backward(psi1q*psi2q)\n",
    "\n",
    "    v12 = bond_potential(r, l0, k)\n",
    "    φ12 = v12 + depletion12\n",
    "    return np.log(simpson(4*np.pi * r**2 * np.exp(-φ12), r))\n",
    "\n",
    "A1 = 25\n",
    "A2 = np.arange(5, 76, 5)\n",
    "μ_ex_dimer = [dimer_excess_chemical_potential(A1, A) for A in A2]\n",
    "plt.plot(A2, μ_ex_dimer)\n",
    "plt.xlabel('$A_{02}$')\n",
    "plt.ylabel(r'$\\beta \\mu_\\mathrm{dim}^\\mathrm{ex}$')\n",
    "plt.title(r'$A_{01} = 25$')\n",
    "plt.show()\n"
   ]
  },
  {
   "cell_type": "markdown",
   "metadata": {},
   "source": [
    "The partition coefficient is obtained from the ratio of excess chemical potentials in two solvents $\\alpha$ and $\\beta$:\n",
    "$$\n",
    "\\ln{K_{ij}^{\\alpha\\beta}}\n",
    "\\equiv\n",
    "\\ln{\\left( \\frac{c_{ij}^\\alpha}{c_{ij}^\\beta} \\right)}\n",
    "=\n",
    "\\beta \\mu_{ij,\\alpha}^\\text{ex} - \\beta \\mu_{ij,\\beta}^\\text{ex}\\,.\n",
    "$$"
   ]
  },
  {
   "cell_type": "code",
   "execution_count": 16,
   "metadata": {},
   "outputs": [
    {
     "data": {
      "image/png": "[encoded data removed]",
      "text/plain": [
       "<Figure size 432x288 with 1 Axes>"
      ]
     },
     "metadata": {
      "needs_background": "light"
     },
     "output_type": "display_data"
    }
   ],
   "source": [
    "def monomer_partition_coefficient(Aα1, Aβ1):\n",
    "    \"\"\"Partition coefficient of a monomer for two reference solvents.\n",
    "    Args:\n",
    "        Aα1: interaction coefficient between solute and first solvent.\n",
    "        Aβ1: interaction coefficient between solute and second solvent.\n",
    "    Returns:\n",
    "        Difference between excess chemical potentials in units of kT.\n",
    "    \"\"\"\n",
    "    φα1, φβ1 = [dpd_potential(A, r) for A in [Aα1, Aβ1]]\n",
    "\n",
    "    soln = solute.solve(φα1, monitor=verbose)\n",
    "    hα1, cα1, hα1q = soln.hr, soln.cr, soln.hq\n",
    "    μ_ex_α = excess_chemical_potential(hα1, cα1, r)\n",
    "\n",
    "    soln = solute.solve(φβ1, monitor=verbose)\n",
    "    hβ1, cβ1, hβ1q = soln.hr, soln.cr, soln.hq\n",
    "    μ_ex_β = excess_chemical_potential(hβ1, cβ1, r)\n",
    "\n",
    "    return μ_ex_β - μ_ex_α\n",
    "\n",
    "def dimer_partition_coefficient(A1, A2, l0=0.5, k=150):\n",
    "    \"\"\"Partition coefficient of a dimer for two reference solvents.\n",
    "    Args:\n",
    "        A1: interaction coefficients of first bead with each solvent.\n",
    "        A2: interaction coefficients of second bead with each solvent.\n",
    "        l0: equilbrium length of dimer in a vacuum.\n",
    "        k: interaction strength between the two beads (a spring constant).\n",
    "    Returns:\n",
    "        Difference between excess chemical potentials in units of kT.\n",
    "    \"\"\"\n",
    "\n",
    "    K1 = monomer_partition_coefficient(*A1)\n",
    "    K2 = monomer_partition_coefficient(*A2)\n",
    "\n",
    "    Aα1, Aβ1 = A1\n",
    "    Aα2, Aβ2 = A2\n",
    "    μ_ex_α = dimer_excess_chemical_potential(Aα1, Aα2, l0, k)\n",
    "    μ_ex_β = dimer_excess_chemical_potential(Aβ1, Aβ2, l0, k)\n",
    "\n",
    "    return K1 + K2 + μ_ex_α - μ_ex_β\n",
    "\n",
    "A1 = [25, 25]\n",
    "A2 = [100, 25]\n",
    "K1 = monomer_partition_coefficient(*A1)\n",
    "K2 = monomer_partition_coefficient(*A2)\n",
    "\n",
    "l0 = np.linspace(0, 3, 100)\n",
    "logP = [dimer_partition_coefficient(A1, A2, ll) for ll in l0]\n",
    "\n",
    "plt.plot(l0, logP)\n",
    "plt.axhline(y=(K1+K2), ls='--', lw=0.5)\n",
    "plt.xlabel('$l_0$')\n",
    "plt.ylabel(r'$\\ln{K_{12}}$')\n",
    "plt.title(r'$A_{\\alpha 1} = 25, A_{\\alpha 2} = 100, A_{\\beta 1} = A_{\\beta 2} = 25$')\n",
    "plt.show()"
   ]
  },
  {
   "cell_type": "code",
   "execution_count": null,
   "metadata": {},
   "outputs": [],
   "source": []
  }
 ],
 "metadata": {
  "kernelspec": {
   "display_name": "Python 3 (ipykernel)",
   "language": "python",
   "name": "python3"
  },
  "language_info": {
   "codemirror_mode": {
    "name": "ipython",
    "version": 3
   },
   "file_extension": ".py",
   "mimetype": "text/x-python",
   "name": "python",
   "nbconvert_exporter": "python",
   "pygments_lexer": "ipython3",
   "version": "3.10.12"
  }
 },
 "nbformat": 4,
 "nbformat_minor": 2
}
