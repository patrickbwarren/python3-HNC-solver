{
 "cells": [
  {
   "cell_type": "code",
   "execution_count": null,
   "metadata": {},
   "outputs": [],
   "source": [
    "import numpy as np, matplotlib.pyplot as plt\n",
    "from pyhnc import *"
   ]
  },
  {
   "cell_type": "code",
   "execution_count": null,
   "metadata": {},
   "outputs": [],
   "source": [
    "N = int(1e5)\n",
    "Δr = 0.01\n",
    "grid = Grid(N, Δr)\n",
    "r, q = grid.r, grid.q\n",
    "\n",
    "A, rho0 = 25, 3\n",
    "potential = potentials.DPD(A)\n",
    "solvent = Solver(grid, alpha=0.1).solve(potential, rho0)"
   ]
  },
  {
   "cell_type": "code",
   "execution_count": null,
   "metadata": {},
   "outputs": [],
   "source": [
    "class DPDWall(planar.Wall):\n",
    "    def __getstate__(self):\n",
    "        return {'A': self.A, 'rcut': self.rcut}\n",
    "\n",
    "    def __init__(self, A, rcut):\n",
    "        self.A = A\n",
    "        self.rcut = rcut\n",
    "\n",
    "    def potential(self, x):\n",
    "        x = np.asarray(x)\n",
    "        phi = 0.5*self.A * x**2 / self.rcut\n",
    "        phi = np.where(x > 0, 0., phi)\n",
    "        phi = np.where(x <= -self.rcut, 0.5*self.A * self.rcut, phi)\n",
    "        return phi.item() if np.isscalar(x) else phi\n",
    "\n",
    "    def force(self, x):\n",
    "        x = np.asarray(x)\n",
    "        f = -self.A * x/self.rcut**2\n",
    "        f = np.where(x > 0, 0., f)\n",
    "        f = np.where(x <= -self.rcut, 0., f)\n",
    "        return f.item() if np.isscalar(x) else f\n",
    "\n",
    "wall = DPDWall(25, 5)\n",
    "x = np.linspace(-10, 10, 1000)\n",
    "plt.plot(x, wall.potential(x), label='potential')\n",
    "plt.plot(x, wall.force(x), label='force')\n",
    "plt.legend(loc='best')\n",
    "plt.xlabel('$x$')\n",
    "plt.show()"
   ]
  },
  {
   "cell_type": "code",
   "execution_count": null,
   "metadata": {},
   "outputs": [],
   "source": [
    "plane = planar.PlanarSolver(solvent, alpha=0.1)\n",
    "plane.solve(wall, monitor=True, restart=True)"
   ]
  },
  {
   "cell_type": "code",
   "execution_count": null,
   "metadata": {},
   "outputs": [],
   "source": [
    "plt.plot(r, solvent.c, label=r'$c(r)$')\n",
    "plt.plot(plane.x, plane.cpar, '--', label=r'$c_\\parallel(x)$')\n",
    "plt.legend(loc='best')\n",
    "plt.xlim([0, 2])\n",
    "plt.xlabel(r'$r$ or $x$')\n",
    "plt.ylabel(r'$c$')\n",
    "\n",
    "plt.figure()\n",
    "plt.plot(plane.x, plane.density_profile)\n",
    "plt.xlabel('$x$')\n",
    "plt.ylabel(r'$\\rho(x)$')\n",
    "plt.xlim([-5, 5])\n",
    "\n",
    "plt.show()"
   ]
  },
  {
   "cell_type": "code",
   "execution_count": null,
   "metadata": {},
   "outputs": [],
   "source": [
    "with np.load('data/wall_dpd.npz') as f:\n",
    "    x, samples, box = f['x'], f['rho'], f['box']\n",
    "    nsamples = samples.shape[-1]\n",
    "    profile = np.average(samples, axis=0)\n",
    "\n",
    "A = 25\n",
    "rho0 = np.average(profile[-10:])\n",
    "potential = potentials.DPD(A)\n",
    "solvent = Solver(grid).solve(potential, rho0)\n",
    "\n",
    "L = box[0]\n",
    "wall = DPDWall(A, 0.25*L)\n",
    "plane = planar.PlanarSolver(solvent, alpha=0.1)\n",
    "plane.solve(wall, monitor=True)"
   ]
  },
  {
   "cell_type": "code",
   "execution_count": null,
   "metadata": {},
   "outputs": [],
   "source": [
    "plt.plot(x, profile, 'o', mfc='None', label='MD')\n",
    "plt.plot(plane.x, plane.density_profile, 'k--', label='HNC')\n",
    "plt.legend(loc='best')\n",
    "plt.xlabel('$x$')\n",
    "plt.ylabel(r'$\\rho(x)$')\n",
    "plt.xlim([-10, 5])\n",
    "plt.show()"
   ]
  },
  {
   "cell_type": "markdown",
   "metadata": {},
   "source": [
    "# Surface tension"
   ]
  },
  {
   "cell_type": "code",
   "execution_count": null,
   "metadata": {},
   "outputs": [],
   "source": [
    "class DPDSemiSoftWall(planar.Wall):\n",
    "    def __getstate__(self):\n",
    "        return {'A': self.A}\n",
    "\n",
    "    def __init__(self, A):\n",
    "        self.A = A\n",
    "\n",
    "    def potential(self, x):\n",
    "        phi = 0.5 * self.A * (1 - x)**2\n",
    "        phi[x > 1] = 0.\n",
    "        phi[x < 0] = np.inf\n",
    "        return phi\n",
    "\n",
    "    def force(self, x):\n",
    "        f = self.A * (1 - x)\n",
    "        f[x > 1] = 0.\n",
    "        f[x < 0] = 0.\n",
    "        return f\n",
    "\n",
    "A, rho0 = 25, 3\n",
    "potential = potentials.DPD(A)\n",
    "solvent = Solver(grid).solve(potential, rho0)\n",
    "\n",
    "plane = planar.PlanarSolver(solvent, alpha=0.1)\n",
    "\n",
    "Awall_hnc = np.linspace(0, 60., 50)\n",
    "gamma_hnc = np.empty_like(Awall_hnc)\n",
    "for i, eps in enumerate(Awall_hnc):\n",
    "    wall = DPDSemiSoftWall(eps)\n",
    "    gamma_hnc[i] = plane.solve(wall).surface_tension"
   ]
  },
  {
   "cell_type": "code",
   "execution_count": null,
   "metadata": {},
   "outputs": [],
   "source": [
    "Awall, gamma = np.genfromtxt('data/jimenezSerratos2025_surface_tension.csv').T\n",
    "\n",
    "plt.figure(figsize=(3.375, 2.1))\n",
    "pl, = plt.plot(Awall, gamma, 'o', mfc='None',\n",
    "               label=r'Jimenez-Serratos \\emph{et al.} (2025)')\n",
    "plt.plot(Awall_hnc, gamma_hnc, '-', c=pl.get_color(), label='planar HNC')\n",
    "\n",
    "plt.legend(loc='best')\n",
    "plt.xlabel(r'$A_\\mathrm{wall}$')\n",
    "plt.ylabel(r'$\\gamma$')\n",
    "plt.xlim([0, 60])\n",
    "plt.ylim([-10, 15])\n",
    "\n",
    "plt.show()"
   ]
  },
  {
   "cell_type": "code",
   "execution_count": null,
   "metadata": {},
   "outputs": [],
   "source": []
  }
 ],
 "metadata": {
  "kernelspec": {
   "display_name": "Python 3",
   "language": "python",
   "name": "python3"
  },
  "language_info": {
   "codemirror_mode": {
    "name": "ipython",
    "version": 3
   },
   "file_extension": ".py",
   "mimetype": "text/x-python",
   "name": "python",
   "nbconvert_exporter": "python",
   "pygments_lexer": "ipython3",
   "version": "3.13.5"
  }
 },
 "nbformat": 4,
 "nbformat_minor": 2
}
